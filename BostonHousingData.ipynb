{
 "cells": [
  {
   "cell_type": "code",
   "execution_count": 1,
   "id": "dfca98ec",
   "metadata": {},
   "outputs": [],
   "source": [
    "import pandas as pd\n",
    "import numpy as np\n",
    "import warnings"
   ]
  },
  {
   "cell_type": "code",
   "execution_count": 2,
   "id": "0dab76a9",
   "metadata": {},
   "outputs": [],
   "source": [
    "BostonHousingData=pd.read_csv('file:///E:/Data%20Science/Ivy%20Python%20&%20Machine%20Learning,Deep%20Learning/Python%20Datasets/Regression%20Datasets/BostonHousingData.csv',\n",
    "                             sep=\",\",encoding='latin-1')"
   ]
  },
  {
   "cell_type": "code",
   "execution_count": 3,
   "id": "f9614aed",
   "metadata": {},
   "outputs": [
    {
     "data": {
      "text/html": [
       "<div>\n",
       "<style scoped>\n",
       "    .dataframe tbody tr th:only-of-type {\n",
       "        vertical-align: middle;\n",
       "    }\n",
       "\n",
       "    .dataframe tbody tr th {\n",
       "        vertical-align: top;\n",
       "    }\n",
       "\n",
       "    .dataframe thead th {\n",
       "        text-align: right;\n",
       "    }\n",
       "</style>\n",
       "<table border=\"1\" class=\"dataframe\">\n",
       "  <thead>\n",
       "    <tr style=\"text-align: right;\">\n",
       "      <th></th>\n",
       "      <th>CRIM</th>\n",
       "      <th>ZN</th>\n",
       "      <th>INDUS</th>\n",
       "      <th>CHAS</th>\n",
       "      <th>NOX</th>\n",
       "      <th>RM</th>\n",
       "      <th>AGE</th>\n",
       "      <th>DIS</th>\n",
       "      <th>RAD</th>\n",
       "      <th>TAX</th>\n",
       "      <th>PTRATIO</th>\n",
       "      <th>B</th>\n",
       "      <th>LSTAT</th>\n",
       "      <th>MEDV</th>\n",
       "    </tr>\n",
       "  </thead>\n",
       "  <tbody>\n",
       "    <tr>\n",
       "      <th>0</th>\n",
       "      <td>0.00632</td>\n",
       "      <td>18.0</td>\n",
       "      <td>2.31</td>\n",
       "      <td>0</td>\n",
       "      <td>0.538</td>\n",
       "      <td>6.575</td>\n",
       "      <td>65.2</td>\n",
       "      <td>4.0900</td>\n",
       "      <td>1</td>\n",
       "      <td>296</td>\n",
       "      <td>15.3</td>\n",
       "      <td>396.90</td>\n",
       "      <td>4.98</td>\n",
       "      <td>24.0</td>\n",
       "    </tr>\n",
       "    <tr>\n",
       "      <th>1</th>\n",
       "      <td>0.02731</td>\n",
       "      <td>0.0</td>\n",
       "      <td>7.07</td>\n",
       "      <td>0</td>\n",
       "      <td>0.469</td>\n",
       "      <td>6.421</td>\n",
       "      <td>78.9</td>\n",
       "      <td>4.9671</td>\n",
       "      <td>2</td>\n",
       "      <td>242</td>\n",
       "      <td>17.8</td>\n",
       "      <td>396.90</td>\n",
       "      <td>9.14</td>\n",
       "      <td>21.6</td>\n",
       "    </tr>\n",
       "    <tr>\n",
       "      <th>2</th>\n",
       "      <td>0.02729</td>\n",
       "      <td>0.0</td>\n",
       "      <td>7.07</td>\n",
       "      <td>0</td>\n",
       "      <td>0.469</td>\n",
       "      <td>7.185</td>\n",
       "      <td>61.1</td>\n",
       "      <td>4.9671</td>\n",
       "      <td>2</td>\n",
       "      <td>242</td>\n",
       "      <td>17.8</td>\n",
       "      <td>392.83</td>\n",
       "      <td>4.03</td>\n",
       "      <td>34.7</td>\n",
       "    </tr>\n",
       "    <tr>\n",
       "      <th>3</th>\n",
       "      <td>0.03237</td>\n",
       "      <td>0.0</td>\n",
       "      <td>2.18</td>\n",
       "      <td>0</td>\n",
       "      <td>0.458</td>\n",
       "      <td>6.998</td>\n",
       "      <td>45.8</td>\n",
       "      <td>6.0622</td>\n",
       "      <td>3</td>\n",
       "      <td>222</td>\n",
       "      <td>18.7</td>\n",
       "      <td>394.63</td>\n",
       "      <td>2.94</td>\n",
       "      <td>33.4</td>\n",
       "    </tr>\n",
       "    <tr>\n",
       "      <th>4</th>\n",
       "      <td>0.06905</td>\n",
       "      <td>0.0</td>\n",
       "      <td>2.18</td>\n",
       "      <td>0</td>\n",
       "      <td>0.458</td>\n",
       "      <td>7.147</td>\n",
       "      <td>54.2</td>\n",
       "      <td>6.0622</td>\n",
       "      <td>3</td>\n",
       "      <td>222</td>\n",
       "      <td>18.7</td>\n",
       "      <td>396.90</td>\n",
       "      <td>5.33</td>\n",
       "      <td>36.2</td>\n",
       "    </tr>\n",
       "  </tbody>\n",
       "</table>\n",
       "</div>"
      ],
      "text/plain": [
       "      CRIM    ZN  INDUS  CHAS    NOX     RM   AGE     DIS  RAD  TAX  PTRATIO  \\\n",
       "0  0.00632  18.0   2.31     0  0.538  6.575  65.2  4.0900    1  296     15.3   \n",
       "1  0.02731   0.0   7.07     0  0.469  6.421  78.9  4.9671    2  242     17.8   \n",
       "2  0.02729   0.0   7.07     0  0.469  7.185  61.1  4.9671    2  242     17.8   \n",
       "3  0.03237   0.0   2.18     0  0.458  6.998  45.8  6.0622    3  222     18.7   \n",
       "4  0.06905   0.0   2.18     0  0.458  7.147  54.2  6.0622    3  222     18.7   \n",
       "\n",
       "        B  LSTAT  MEDV  \n",
       "0  396.90   4.98  24.0  \n",
       "1  396.90   9.14  21.6  \n",
       "2  392.83   4.03  34.7  \n",
       "3  394.63   2.94  33.4  \n",
       "4  396.90   5.33  36.2  "
      ]
     },
     "execution_count": 3,
     "metadata": {},
     "output_type": "execute_result"
    }
   ],
   "source": [
    "BostonHousingData.head()"
   ]
  },
  {
   "cell_type": "code",
   "execution_count": 4,
   "id": "4678feaa",
   "metadata": {},
   "outputs": [
    {
     "name": "stdout",
     "output_type": "stream",
     "text": [
      "<class 'pandas.core.frame.DataFrame'>\n",
      "RangeIndex: 506 entries, 0 to 505\n",
      "Data columns (total 14 columns):\n",
      " #   Column   Non-Null Count  Dtype  \n",
      "---  ------   --------------  -----  \n",
      " 0   CRIM     506 non-null    float64\n",
      " 1   ZN       506 non-null    float64\n",
      " 2   INDUS    506 non-null    float64\n",
      " 3   CHAS     506 non-null    int64  \n",
      " 4   NOX      506 non-null    float64\n",
      " 5   RM       506 non-null    float64\n",
      " 6   AGE      506 non-null    float64\n",
      " 7   DIS      506 non-null    float64\n",
      " 8   RAD      506 non-null    int64  \n",
      " 9   TAX      506 non-null    int64  \n",
      " 10  PTRATIO  506 non-null    float64\n",
      " 11  B        506 non-null    float64\n",
      " 12  LSTAT    506 non-null    float64\n",
      " 13  MEDV     506 non-null    float64\n",
      "dtypes: float64(11), int64(3)\n",
      "memory usage: 55.5 KB\n"
     ]
    }
   ],
   "source": [
    "BostonHousingData.info()"
   ]
  },
  {
   "cell_type": "code",
   "execution_count": 5,
   "id": "f70563be",
   "metadata": {},
   "outputs": [
    {
     "data": {
      "text/html": [
       "<div>\n",
       "<style scoped>\n",
       "    .dataframe tbody tr th:only-of-type {\n",
       "        vertical-align: middle;\n",
       "    }\n",
       "\n",
       "    .dataframe tbody tr th {\n",
       "        vertical-align: top;\n",
       "    }\n",
       "\n",
       "    .dataframe thead th {\n",
       "        text-align: right;\n",
       "    }\n",
       "</style>\n",
       "<table border=\"1\" class=\"dataframe\">\n",
       "  <thead>\n",
       "    <tr style=\"text-align: right;\">\n",
       "      <th></th>\n",
       "      <th>CRIM</th>\n",
       "      <th>ZN</th>\n",
       "      <th>INDUS</th>\n",
       "      <th>CHAS</th>\n",
       "      <th>NOX</th>\n",
       "      <th>RM</th>\n",
       "      <th>AGE</th>\n",
       "      <th>DIS</th>\n",
       "      <th>RAD</th>\n",
       "      <th>TAX</th>\n",
       "      <th>PTRATIO</th>\n",
       "      <th>B</th>\n",
       "      <th>LSTAT</th>\n",
       "      <th>MEDV</th>\n",
       "    </tr>\n",
       "  </thead>\n",
       "  <tbody>\n",
       "    <tr>\n",
       "      <th>count</th>\n",
       "      <td>506.00</td>\n",
       "      <td>506.00</td>\n",
       "      <td>506.00</td>\n",
       "      <td>506.00</td>\n",
       "      <td>506.00</td>\n",
       "      <td>506.00</td>\n",
       "      <td>506.00</td>\n",
       "      <td>506.00</td>\n",
       "      <td>506.00</td>\n",
       "      <td>506.00</td>\n",
       "      <td>506.00</td>\n",
       "      <td>506.00</td>\n",
       "      <td>506.00</td>\n",
       "      <td>506.00</td>\n",
       "    </tr>\n",
       "    <tr>\n",
       "      <th>mean</th>\n",
       "      <td>3.61</td>\n",
       "      <td>11.36</td>\n",
       "      <td>11.14</td>\n",
       "      <td>0.07</td>\n",
       "      <td>0.55</td>\n",
       "      <td>6.28</td>\n",
       "      <td>68.57</td>\n",
       "      <td>3.80</td>\n",
       "      <td>9.55</td>\n",
       "      <td>408.24</td>\n",
       "      <td>18.46</td>\n",
       "      <td>356.67</td>\n",
       "      <td>12.65</td>\n",
       "      <td>22.53</td>\n",
       "    </tr>\n",
       "    <tr>\n",
       "      <th>std</th>\n",
       "      <td>8.60</td>\n",
       "      <td>23.32</td>\n",
       "      <td>6.86</td>\n",
       "      <td>0.25</td>\n",
       "      <td>0.12</td>\n",
       "      <td>0.70</td>\n",
       "      <td>28.15</td>\n",
       "      <td>2.11</td>\n",
       "      <td>8.71</td>\n",
       "      <td>168.54</td>\n",
       "      <td>2.16</td>\n",
       "      <td>91.29</td>\n",
       "      <td>7.14</td>\n",
       "      <td>9.20</td>\n",
       "    </tr>\n",
       "    <tr>\n",
       "      <th>min</th>\n",
       "      <td>0.01</td>\n",
       "      <td>0.00</td>\n",
       "      <td>0.46</td>\n",
       "      <td>0.00</td>\n",
       "      <td>0.38</td>\n",
       "      <td>3.56</td>\n",
       "      <td>2.90</td>\n",
       "      <td>1.13</td>\n",
       "      <td>1.00</td>\n",
       "      <td>187.00</td>\n",
       "      <td>12.60</td>\n",
       "      <td>0.32</td>\n",
       "      <td>1.73</td>\n",
       "      <td>5.00</td>\n",
       "    </tr>\n",
       "    <tr>\n",
       "      <th>25%</th>\n",
       "      <td>0.08</td>\n",
       "      <td>0.00</td>\n",
       "      <td>5.19</td>\n",
       "      <td>0.00</td>\n",
       "      <td>0.45</td>\n",
       "      <td>5.89</td>\n",
       "      <td>45.02</td>\n",
       "      <td>2.10</td>\n",
       "      <td>4.00</td>\n",
       "      <td>279.00</td>\n",
       "      <td>17.40</td>\n",
       "      <td>375.38</td>\n",
       "      <td>6.95</td>\n",
       "      <td>17.02</td>\n",
       "    </tr>\n",
       "    <tr>\n",
       "      <th>50%</th>\n",
       "      <td>0.26</td>\n",
       "      <td>0.00</td>\n",
       "      <td>9.69</td>\n",
       "      <td>0.00</td>\n",
       "      <td>0.54</td>\n",
       "      <td>6.21</td>\n",
       "      <td>77.50</td>\n",
       "      <td>3.21</td>\n",
       "      <td>5.00</td>\n",
       "      <td>330.00</td>\n",
       "      <td>19.05</td>\n",
       "      <td>391.44</td>\n",
       "      <td>11.36</td>\n",
       "      <td>21.20</td>\n",
       "    </tr>\n",
       "    <tr>\n",
       "      <th>75%</th>\n",
       "      <td>3.68</td>\n",
       "      <td>12.50</td>\n",
       "      <td>18.10</td>\n",
       "      <td>0.00</td>\n",
       "      <td>0.62</td>\n",
       "      <td>6.62</td>\n",
       "      <td>94.07</td>\n",
       "      <td>5.19</td>\n",
       "      <td>24.00</td>\n",
       "      <td>666.00</td>\n",
       "      <td>20.20</td>\n",
       "      <td>396.22</td>\n",
       "      <td>16.96</td>\n",
       "      <td>25.00</td>\n",
       "    </tr>\n",
       "    <tr>\n",
       "      <th>max</th>\n",
       "      <td>88.98</td>\n",
       "      <td>100.00</td>\n",
       "      <td>27.74</td>\n",
       "      <td>1.00</td>\n",
       "      <td>0.87</td>\n",
       "      <td>8.78</td>\n",
       "      <td>100.00</td>\n",
       "      <td>12.13</td>\n",
       "      <td>24.00</td>\n",
       "      <td>711.00</td>\n",
       "      <td>22.00</td>\n",
       "      <td>396.90</td>\n",
       "      <td>37.97</td>\n",
       "      <td>50.00</td>\n",
       "    </tr>\n",
       "  </tbody>\n",
       "</table>\n",
       "</div>"
      ],
      "text/plain": [
       "         CRIM      ZN   INDUS    CHAS     NOX      RM     AGE     DIS     RAD  \\\n",
       "count  506.00  506.00  506.00  506.00  506.00  506.00  506.00  506.00  506.00   \n",
       "mean     3.61   11.36   11.14    0.07    0.55    6.28   68.57    3.80    9.55   \n",
       "std      8.60   23.32    6.86    0.25    0.12    0.70   28.15    2.11    8.71   \n",
       "min      0.01    0.00    0.46    0.00    0.38    3.56    2.90    1.13    1.00   \n",
       "25%      0.08    0.00    5.19    0.00    0.45    5.89   45.02    2.10    4.00   \n",
       "50%      0.26    0.00    9.69    0.00    0.54    6.21   77.50    3.21    5.00   \n",
       "75%      3.68   12.50   18.10    0.00    0.62    6.62   94.07    5.19   24.00   \n",
       "max     88.98  100.00   27.74    1.00    0.87    8.78  100.00   12.13   24.00   \n",
       "\n",
       "          TAX  PTRATIO       B   LSTAT    MEDV  \n",
       "count  506.00   506.00  506.00  506.00  506.00  \n",
       "mean   408.24    18.46  356.67   12.65   22.53  \n",
       "std    168.54     2.16   91.29    7.14    9.20  \n",
       "min    187.00    12.60    0.32    1.73    5.00  \n",
       "25%    279.00    17.40  375.38    6.95   17.02  \n",
       "50%    330.00    19.05  391.44   11.36   21.20  \n",
       "75%    666.00    20.20  396.22   16.96   25.00  \n",
       "max    711.00    22.00  396.90   37.97   50.00  "
      ]
     },
     "execution_count": 5,
     "metadata": {},
     "output_type": "execute_result"
    }
   ],
   "source": [
    "round(BostonHousingData.describe(),2)"
   ]
  },
  {
   "cell_type": "markdown",
   "id": "f6a20b9a",
   "metadata": {},
   "source": [
    "# Data description"
   ]
  },
  {
   "cell_type": "raw",
   "id": "c6c3564c",
   "metadata": {},
   "source": [
    "\n",
    "The business meaning of each column in the data is as below\n",
    "CRIM - per capita crime rate by town\n",
    "ZN - proportion of residential land zoned for lots over 25,000 sq.ft.\n",
    "INDUS - proportion of non-retail business acres per town.\n",
    "CHAS - Charles River dummy variable (1 if tract bounds river; 0 otherwise)\n",
    "NOX - nitric oxides concentration (parts per 10 million)\n",
    "RM - average number of rooms per dwelling\n",
    "AGE - proportion of owner-occupied units built prior to 1940\n",
    "DIS - weighted distances to five Boston employment centres\n",
    "RAD - index of accessibility to radial highways\n",
    "TAX - full-value property-tax rate per 10,000 dollars\n",
    "PTRATIO - pupil/teacher ratio by town\n",
    "B - 1000(Bk - 0.63)^2 where Bk is the proportion of blacks by town\n",
    "LSTAT - % lower status of the population\n",
    "MEDV - Median value of owner-occupied homes in $1000's"
   ]
  },
  {
   "cell_type": "code",
   "execution_count": 6,
   "id": "998edf80",
   "metadata": {},
   "outputs": [],
   "source": [
    "BostonHousingData.rename(columns={'CRIM':'CRIME',\n",
    "                                 'ZN':'Zone',\n",
    "                                 'RM':'Avg.Room',\n",
    "                                 'LSTAT':'Lower Status'\n",
    "                                 },inplace=True)"
   ]
  },
  {
   "cell_type": "code",
   "execution_count": 7,
   "id": "177f1798",
   "metadata": {},
   "outputs": [
    {
     "data": {
      "text/html": [
       "<div>\n",
       "<style scoped>\n",
       "    .dataframe tbody tr th:only-of-type {\n",
       "        vertical-align: middle;\n",
       "    }\n",
       "\n",
       "    .dataframe tbody tr th {\n",
       "        vertical-align: top;\n",
       "    }\n",
       "\n",
       "    .dataframe thead th {\n",
       "        text-align: right;\n",
       "    }\n",
       "</style>\n",
       "<table border=\"1\" class=\"dataframe\">\n",
       "  <thead>\n",
       "    <tr style=\"text-align: right;\">\n",
       "      <th></th>\n",
       "      <th>CRIME</th>\n",
       "      <th>Zone</th>\n",
       "      <th>INDUS</th>\n",
       "      <th>CHAS</th>\n",
       "      <th>NOX</th>\n",
       "      <th>Avg.Room</th>\n",
       "      <th>AGE</th>\n",
       "      <th>DIS</th>\n",
       "      <th>RAD</th>\n",
       "      <th>TAX</th>\n",
       "      <th>PTRATIO</th>\n",
       "      <th>B</th>\n",
       "      <th>Lower Status</th>\n",
       "      <th>MEDV</th>\n",
       "    </tr>\n",
       "  </thead>\n",
       "  <tbody>\n",
       "    <tr>\n",
       "      <th>0</th>\n",
       "      <td>0.00632</td>\n",
       "      <td>18.0</td>\n",
       "      <td>2.31</td>\n",
       "      <td>0</td>\n",
       "      <td>0.538</td>\n",
       "      <td>6.575</td>\n",
       "      <td>65.2</td>\n",
       "      <td>4.0900</td>\n",
       "      <td>1</td>\n",
       "      <td>296</td>\n",
       "      <td>15.3</td>\n",
       "      <td>396.90</td>\n",
       "      <td>4.98</td>\n",
       "      <td>24.0</td>\n",
       "    </tr>\n",
       "    <tr>\n",
       "      <th>1</th>\n",
       "      <td>0.02731</td>\n",
       "      <td>0.0</td>\n",
       "      <td>7.07</td>\n",
       "      <td>0</td>\n",
       "      <td>0.469</td>\n",
       "      <td>6.421</td>\n",
       "      <td>78.9</td>\n",
       "      <td>4.9671</td>\n",
       "      <td>2</td>\n",
       "      <td>242</td>\n",
       "      <td>17.8</td>\n",
       "      <td>396.90</td>\n",
       "      <td>9.14</td>\n",
       "      <td>21.6</td>\n",
       "    </tr>\n",
       "    <tr>\n",
       "      <th>2</th>\n",
       "      <td>0.02729</td>\n",
       "      <td>0.0</td>\n",
       "      <td>7.07</td>\n",
       "      <td>0</td>\n",
       "      <td>0.469</td>\n",
       "      <td>7.185</td>\n",
       "      <td>61.1</td>\n",
       "      <td>4.9671</td>\n",
       "      <td>2</td>\n",
       "      <td>242</td>\n",
       "      <td>17.8</td>\n",
       "      <td>392.83</td>\n",
       "      <td>4.03</td>\n",
       "      <td>34.7</td>\n",
       "    </tr>\n",
       "    <tr>\n",
       "      <th>3</th>\n",
       "      <td>0.03237</td>\n",
       "      <td>0.0</td>\n",
       "      <td>2.18</td>\n",
       "      <td>0</td>\n",
       "      <td>0.458</td>\n",
       "      <td>6.998</td>\n",
       "      <td>45.8</td>\n",
       "      <td>6.0622</td>\n",
       "      <td>3</td>\n",
       "      <td>222</td>\n",
       "      <td>18.7</td>\n",
       "      <td>394.63</td>\n",
       "      <td>2.94</td>\n",
       "      <td>33.4</td>\n",
       "    </tr>\n",
       "    <tr>\n",
       "      <th>4</th>\n",
       "      <td>0.06905</td>\n",
       "      <td>0.0</td>\n",
       "      <td>2.18</td>\n",
       "      <td>0</td>\n",
       "      <td>0.458</td>\n",
       "      <td>7.147</td>\n",
       "      <td>54.2</td>\n",
       "      <td>6.0622</td>\n",
       "      <td>3</td>\n",
       "      <td>222</td>\n",
       "      <td>18.7</td>\n",
       "      <td>396.90</td>\n",
       "      <td>5.33</td>\n",
       "      <td>36.2</td>\n",
       "    </tr>\n",
       "  </tbody>\n",
       "</table>\n",
       "</div>"
      ],
      "text/plain": [
       "     CRIME  Zone  INDUS  CHAS    NOX  Avg.Room   AGE     DIS  RAD  TAX  \\\n",
       "0  0.00632  18.0   2.31     0  0.538     6.575  65.2  4.0900    1  296   \n",
       "1  0.02731   0.0   7.07     0  0.469     6.421  78.9  4.9671    2  242   \n",
       "2  0.02729   0.0   7.07     0  0.469     7.185  61.1  4.9671    2  242   \n",
       "3  0.03237   0.0   2.18     0  0.458     6.998  45.8  6.0622    3  222   \n",
       "4  0.06905   0.0   2.18     0  0.458     7.147  54.2  6.0622    3  222   \n",
       "\n",
       "   PTRATIO       B  Lower Status  MEDV  \n",
       "0     15.3  396.90          4.98  24.0  \n",
       "1     17.8  396.90          9.14  21.6  \n",
       "2     17.8  392.83          4.03  34.7  \n",
       "3     18.7  394.63          2.94  33.4  \n",
       "4     18.7  396.90          5.33  36.2  "
      ]
     },
     "execution_count": 7,
     "metadata": {},
     "output_type": "execute_result"
    }
   ],
   "source": [
    "BostonHousingData.head()"
   ]
  },
  {
   "cell_type": "code",
   "execution_count": 8,
   "id": "e4885c1c",
   "metadata": {},
   "outputs": [
    {
     "data": {
      "text/html": [
       "<div>\n",
       "<style scoped>\n",
       "    .dataframe tbody tr th:only-of-type {\n",
       "        vertical-align: middle;\n",
       "    }\n",
       "\n",
       "    .dataframe tbody tr th {\n",
       "        vertical-align: top;\n",
       "    }\n",
       "\n",
       "    .dataframe thead th {\n",
       "        text-align: right;\n",
       "    }\n",
       "</style>\n",
       "<table border=\"1\" class=\"dataframe\">\n",
       "  <thead>\n",
       "    <tr style=\"text-align: right;\">\n",
       "      <th></th>\n",
       "      <th>CRIME</th>\n",
       "      <th>Zone</th>\n",
       "      <th>INDUS</th>\n",
       "      <th>CHAS</th>\n",
       "      <th>NOX</th>\n",
       "      <th>Avg.Room</th>\n",
       "      <th>AGE</th>\n",
       "      <th>DIS</th>\n",
       "      <th>RAD</th>\n",
       "      <th>TAX</th>\n",
       "      <th>PTRATIO</th>\n",
       "      <th>B</th>\n",
       "      <th>Lower Status</th>\n",
       "      <th>MEDV</th>\n",
       "    </tr>\n",
       "  </thead>\n",
       "  <tbody>\n",
       "    <tr>\n",
       "      <th>0</th>\n",
       "      <td>0.00632</td>\n",
       "      <td>18.0</td>\n",
       "      <td>2.31</td>\n",
       "      <td>0</td>\n",
       "      <td>0.538</td>\n",
       "      <td>6.575</td>\n",
       "      <td>65.2</td>\n",
       "      <td>4.0900</td>\n",
       "      <td>1</td>\n",
       "      <td>296</td>\n",
       "      <td>15.3</td>\n",
       "      <td>396.90</td>\n",
       "      <td>4.98</td>\n",
       "      <td>24.0</td>\n",
       "    </tr>\n",
       "    <tr>\n",
       "      <th>1</th>\n",
       "      <td>0.02731</td>\n",
       "      <td>0.0</td>\n",
       "      <td>7.07</td>\n",
       "      <td>0</td>\n",
       "      <td>0.469</td>\n",
       "      <td>6.421</td>\n",
       "      <td>78.9</td>\n",
       "      <td>4.9671</td>\n",
       "      <td>2</td>\n",
       "      <td>242</td>\n",
       "      <td>17.8</td>\n",
       "      <td>396.90</td>\n",
       "      <td>9.14</td>\n",
       "      <td>21.6</td>\n",
       "    </tr>\n",
       "    <tr>\n",
       "      <th>2</th>\n",
       "      <td>0.02729</td>\n",
       "      <td>0.0</td>\n",
       "      <td>7.07</td>\n",
       "      <td>0</td>\n",
       "      <td>0.469</td>\n",
       "      <td>7.185</td>\n",
       "      <td>61.1</td>\n",
       "      <td>4.9671</td>\n",
       "      <td>2</td>\n",
       "      <td>242</td>\n",
       "      <td>17.8</td>\n",
       "      <td>392.83</td>\n",
       "      <td>4.03</td>\n",
       "      <td>34.7</td>\n",
       "    </tr>\n",
       "    <tr>\n",
       "      <th>3</th>\n",
       "      <td>0.03237</td>\n",
       "      <td>0.0</td>\n",
       "      <td>2.18</td>\n",
       "      <td>0</td>\n",
       "      <td>0.458</td>\n",
       "      <td>6.998</td>\n",
       "      <td>45.8</td>\n",
       "      <td>6.0622</td>\n",
       "      <td>3</td>\n",
       "      <td>222</td>\n",
       "      <td>18.7</td>\n",
       "      <td>394.63</td>\n",
       "      <td>2.94</td>\n",
       "      <td>33.4</td>\n",
       "    </tr>\n",
       "    <tr>\n",
       "      <th>4</th>\n",
       "      <td>0.06905</td>\n",
       "      <td>0.0</td>\n",
       "      <td>2.18</td>\n",
       "      <td>0</td>\n",
       "      <td>0.458</td>\n",
       "      <td>7.147</td>\n",
       "      <td>54.2</td>\n",
       "      <td>6.0622</td>\n",
       "      <td>3</td>\n",
       "      <td>222</td>\n",
       "      <td>18.7</td>\n",
       "      <td>396.90</td>\n",
       "      <td>5.33</td>\n",
       "      <td>36.2</td>\n",
       "    </tr>\n",
       "    <tr>\n",
       "      <th>...</th>\n",
       "      <td>...</td>\n",
       "      <td>...</td>\n",
       "      <td>...</td>\n",
       "      <td>...</td>\n",
       "      <td>...</td>\n",
       "      <td>...</td>\n",
       "      <td>...</td>\n",
       "      <td>...</td>\n",
       "      <td>...</td>\n",
       "      <td>...</td>\n",
       "      <td>...</td>\n",
       "      <td>...</td>\n",
       "      <td>...</td>\n",
       "      <td>...</td>\n",
       "    </tr>\n",
       "    <tr>\n",
       "      <th>501</th>\n",
       "      <td>0.06263</td>\n",
       "      <td>0.0</td>\n",
       "      <td>11.93</td>\n",
       "      <td>0</td>\n",
       "      <td>0.573</td>\n",
       "      <td>6.593</td>\n",
       "      <td>69.1</td>\n",
       "      <td>2.4786</td>\n",
       "      <td>1</td>\n",
       "      <td>273</td>\n",
       "      <td>21.0</td>\n",
       "      <td>391.99</td>\n",
       "      <td>9.67</td>\n",
       "      <td>22.4</td>\n",
       "    </tr>\n",
       "    <tr>\n",
       "      <th>502</th>\n",
       "      <td>0.04527</td>\n",
       "      <td>0.0</td>\n",
       "      <td>11.93</td>\n",
       "      <td>0</td>\n",
       "      <td>0.573</td>\n",
       "      <td>6.120</td>\n",
       "      <td>76.7</td>\n",
       "      <td>2.2875</td>\n",
       "      <td>1</td>\n",
       "      <td>273</td>\n",
       "      <td>21.0</td>\n",
       "      <td>396.90</td>\n",
       "      <td>9.08</td>\n",
       "      <td>20.6</td>\n",
       "    </tr>\n",
       "    <tr>\n",
       "      <th>503</th>\n",
       "      <td>0.06076</td>\n",
       "      <td>0.0</td>\n",
       "      <td>11.93</td>\n",
       "      <td>0</td>\n",
       "      <td>0.573</td>\n",
       "      <td>6.976</td>\n",
       "      <td>91.0</td>\n",
       "      <td>2.1675</td>\n",
       "      <td>1</td>\n",
       "      <td>273</td>\n",
       "      <td>21.0</td>\n",
       "      <td>396.90</td>\n",
       "      <td>5.64</td>\n",
       "      <td>23.9</td>\n",
       "    </tr>\n",
       "    <tr>\n",
       "      <th>504</th>\n",
       "      <td>0.10959</td>\n",
       "      <td>0.0</td>\n",
       "      <td>11.93</td>\n",
       "      <td>0</td>\n",
       "      <td>0.573</td>\n",
       "      <td>6.794</td>\n",
       "      <td>89.3</td>\n",
       "      <td>2.3889</td>\n",
       "      <td>1</td>\n",
       "      <td>273</td>\n",
       "      <td>21.0</td>\n",
       "      <td>393.45</td>\n",
       "      <td>6.48</td>\n",
       "      <td>22.0</td>\n",
       "    </tr>\n",
       "    <tr>\n",
       "      <th>505</th>\n",
       "      <td>0.04741</td>\n",
       "      <td>0.0</td>\n",
       "      <td>11.93</td>\n",
       "      <td>0</td>\n",
       "      <td>0.573</td>\n",
       "      <td>6.030</td>\n",
       "      <td>80.8</td>\n",
       "      <td>2.5050</td>\n",
       "      <td>1</td>\n",
       "      <td>273</td>\n",
       "      <td>21.0</td>\n",
       "      <td>396.90</td>\n",
       "      <td>7.88</td>\n",
       "      <td>11.9</td>\n",
       "    </tr>\n",
       "  </tbody>\n",
       "</table>\n",
       "<p>506 rows × 14 columns</p>\n",
       "</div>"
      ],
      "text/plain": [
       "       CRIME  Zone  INDUS  CHAS    NOX  Avg.Room   AGE     DIS  RAD  TAX  \\\n",
       "0    0.00632  18.0   2.31     0  0.538     6.575  65.2  4.0900    1  296   \n",
       "1    0.02731   0.0   7.07     0  0.469     6.421  78.9  4.9671    2  242   \n",
       "2    0.02729   0.0   7.07     0  0.469     7.185  61.1  4.9671    2  242   \n",
       "3    0.03237   0.0   2.18     0  0.458     6.998  45.8  6.0622    3  222   \n",
       "4    0.06905   0.0   2.18     0  0.458     7.147  54.2  6.0622    3  222   \n",
       "..       ...   ...    ...   ...    ...       ...   ...     ...  ...  ...   \n",
       "501  0.06263   0.0  11.93     0  0.573     6.593  69.1  2.4786    1  273   \n",
       "502  0.04527   0.0  11.93     0  0.573     6.120  76.7  2.2875    1  273   \n",
       "503  0.06076   0.0  11.93     0  0.573     6.976  91.0  2.1675    1  273   \n",
       "504  0.10959   0.0  11.93     0  0.573     6.794  89.3  2.3889    1  273   \n",
       "505  0.04741   0.0  11.93     0  0.573     6.030  80.8  2.5050    1  273   \n",
       "\n",
       "     PTRATIO       B  Lower Status  MEDV  \n",
       "0       15.3  396.90          4.98  24.0  \n",
       "1       17.8  396.90          9.14  21.6  \n",
       "2       17.8  392.83          4.03  34.7  \n",
       "3       18.7  394.63          2.94  33.4  \n",
       "4       18.7  396.90          5.33  36.2  \n",
       "..       ...     ...           ...   ...  \n",
       "501     21.0  391.99          9.67  22.4  \n",
       "502     21.0  396.90          9.08  20.6  \n",
       "503     21.0  396.90          5.64  23.9  \n",
       "504     21.0  393.45          6.48  22.0  \n",
       "505     21.0  396.90          7.88  11.9  \n",
       "\n",
       "[506 rows x 14 columns]"
      ]
     },
     "execution_count": 8,
     "metadata": {},
     "output_type": "execute_result"
    }
   ],
   "source": [
    "BostonHousingData.drop_duplicates()"
   ]
  },
  {
   "cell_type": "markdown",
   "id": "2b13d740",
   "metadata": {},
   "source": [
    "# Basic Data Exploration"
   ]
  },
  {
   "cell_type": "raw",
   "id": "c169043d",
   "metadata": {},
   "source": [
    "CRIM -Continous.Selected\n",
    "ZN - Continous.Selected\n",
    "INDUS -  Continous.Selected\n",
    "CHAS - Categorical.Selected\n",
    "NOX - Continous.Selected\n",
    "RM -  Continous.Selected\n",
    "AGE - Continous.Selected\n",
    "DIS -  Continous.Selected\n",
    "RAD -  Categorical.Selected\n",
    "TAX -  Continous.Selected\n",
    "PTRATIO -  Continous.Selected\n",
    "B - Continous.Selected\n",
    "LSTAT -  Continous.Selected\n",
    "MEDV -  Continous.Selected(Target Variable)"
   ]
  },
  {
   "cell_type": "code",
   "execution_count": 9,
   "id": "63733165",
   "metadata": {},
   "outputs": [
    {
     "data": {
      "text/plain": [
       "<AxesSubplot:>"
      ]
     },
     "execution_count": 9,
     "metadata": {},
     "output_type": "execute_result"
    },
    {
     "data": {
      "image/png": "[encoded data removed]",
      "text/plain": [
       "<Figure size 432x288 with 1 Axes>"
      ]
     },
     "metadata": {
      "needs_background": "light"
     },
     "output_type": "display_data"
    }
   ],
   "source": [
    "BostonHousingData['MEDV'].hist()"
   ]
  },
  {
   "cell_type": "markdown",
   "id": "533b1ab0",
   "metadata": {},
   "source": [
    "The Distribution is Satisfactory for the target variable,Proceed Further."
   ]
  },
  {
   "cell_type": "markdown",
   "id": "03935e0a",
   "metadata": {},
   "source": [
    "# Continous(Target) VS Continous(Predictors) Distribution[Histogram]"
   ]
  },
  {
   "cell_type": "code",
   "execution_count": 10,
   "id": "90e56d89",
   "metadata": {},
   "outputs": [
    {
     "data": {
      "text/plain": [
       "array([[<AxesSubplot:title={'center':'CRIME'}>,\n",
       "        <AxesSubplot:title={'center':'Zone'}>,\n",
       "        <AxesSubplot:title={'center':'INDUS'}>],\n",
       "       [<AxesSubplot:title={'center':'NOX'}>,\n",
       "        <AxesSubplot:title={'center':'Avg.Room'}>,\n",
       "        <AxesSubplot:title={'center':'AGE'}>],\n",
       "       [<AxesSubplot:title={'center':'DIS'}>,\n",
       "        <AxesSubplot:title={'center':'TAX'}>,\n",
       "        <AxesSubplot:title={'center':'PTRATIO'}>],\n",
       "       [<AxesSubplot:title={'center':'B'}>,\n",
       "        <AxesSubplot:title={'center':'Lower Status'}>, <AxesSubplot:>]],\n",
       "      dtype=object)"
      ]
     },
     "execution_count": 10,
     "metadata": {},
     "output_type": "execute_result"
    },
    {
     "data": {
      "image/png": "[encoded data removed]",
      "text/plain": [
       "<Figure size 1296x720 with 12 Axes>"
      ]
     },
     "metadata": {
      "needs_background": "light"
     },
     "output_type": "display_data"
    }
   ],
   "source": [
    "Conticol=['CRIME','Zone','INDUS','NOX','Avg.Room','AGE','DIS','TAX','PTRATIO','B','Lower Status']\n",
    "BostonHousingData.hist(Conticol,figsize=(18,10),color='orange')"
   ]
  },
  {
   "cell_type": "markdown",
   "id": "1018dcd7",
   "metadata": {},
   "source": [
    "# Histogram Results"
   ]
  },
  {
   "cell_type": "raw",
   "id": "98581d39",
   "metadata": {},
   "source": [
    "CRIM -There are few outliers beyond 20\n",
    "ZN - Distribution is Good.\n",
    "INDUS -  Distribution is Good.\n",
    "CHAS - Distribution is Good.\n",
    "NOX - Distribution is Good.\n",
    "RM -  Distribution is Good.\n",
    "AGE - Distribution is Good.\n",
    "DIS - Distribution is Good.\n",
    "RAD -  Distribution is Good.\n",
    "TAX - Distribution is Good.\n",
    "PTRATIO - Distribution is Good.\n",
    "B - Distribution is Good.\n",
    "LSTAT - Distribution is Good."
   ]
  },
  {
   "cell_type": "markdown",
   "id": "ab6c7674",
   "metadata": {},
   "source": [
    "# Continous(Target) VS Categorical(Predictors) Distribution [Bar Charts]"
   ]
  },
  {
   "cell_type": "code",
   "execution_count": 11,
   "id": "65e72810",
   "metadata": {},
   "outputs": [],
   "source": [
    "def CatCol(inpdata,CaCol):\n",
    "    import matplotlib.pyplot as plt\n",
    "    \n",
    "    fig,subplot=plt.subplots(nrows=1,ncols=len(CaCol),figsize=(10,5))\n",
    "    fig.suptitle('Bar Charts of:'+str(CaCol))\n",
    "    \n",
    "    \n",
    "    for colname,plotnumber in zip(CaCol,range(len(CaCol))):\n",
    "        inpdata.groupby(colname).size().plot(kind='bar',ax=subplot[plotnumber])"
   ]
  },
  {
   "cell_type": "code",
   "execution_count": 12,
   "id": "aa1e0eb3",
   "metadata": {},
   "outputs": [
    {
     "data": {
      "image/png": "[encoded data removed]",
      "text/plain": [
       "<Figure size 720x360 with 2 Axes>"
      ]
     },
     "metadata": {
      "needs_background": "light"
     },
     "output_type": "display_data"
    }
   ],
   "source": [
    "CatCol(inpdata=BostonHousingData,CaCol=['CHAS','RAD'])"
   ]
  },
  {
   "cell_type": "markdown",
   "id": "821ea0fe",
   "metadata": {},
   "source": [
    "# Bar Chart Results"
   ]
  },
  {
   "cell_type": "raw",
   "id": "2862f3fc",
   "metadata": {},
   "source": [
    "Differnce of values from each other for RAD Column is Satisfactory whereas there is huge differnce in \n",
    "CHAS column,so it is not good for ML"
   ]
  },
  {
   "cell_type": "markdown",
   "id": "2826c79a",
   "metadata": {},
   "source": [
    "# Outlier Treatments"
   ]
  },
  {
   "cell_type": "code",
   "execution_count": 13,
   "id": "3ba44352",
   "metadata": {},
   "outputs": [
    {
     "data": {
      "text/plain": [
       "6"
      ]
     },
     "execution_count": 13,
     "metadata": {},
     "output_type": "execute_result"
    }
   ],
   "source": [
    "len(BostonHousingData['CRIME'][BostonHousingData['CRIME']>40])"
   ]
  },
  {
   "cell_type": "code",
   "execution_count": 14,
   "id": "7646955b",
   "metadata": {},
   "outputs": [
    {
     "data": {
      "text/plain": [
       "410    51.13580\n",
       "414    45.74610\n",
       "404    41.52920\n",
       "398    38.35180\n",
       "427    37.66190\n",
       "         ...   \n",
       "55      0.01311\n",
       "341     0.01301\n",
       "285     0.01096\n",
       "284     0.00906\n",
       "0       0.00632\n",
       "Name: CRIME, Length: 503, dtype: float64"
      ]
     },
     "execution_count": 14,
     "metadata": {},
     "output_type": "execute_result"
    }
   ],
   "source": [
    "BostonHousingData['CRIME'][BostonHousingData['CRIME']<60].sort_values(ascending=False)"
   ]
  },
  {
   "cell_type": "markdown",
   "id": "d5981374",
   "metadata": {},
   "source": [
    "# Replacing Outliers"
   ]
  },
  {
   "cell_type": "code",
   "execution_count": 15,
   "id": "5d2702fb",
   "metadata": {},
   "outputs": [
    {
     "name": "stderr",
     "output_type": "stream",
     "text": [
      "<ipython-input-15-00d43490fb68>:1: SettingWithCopyWarning: \n",
      "A value is trying to be set on a copy of a slice from a DataFrame\n",
      "\n",
      "See the caveats in the documentation: https://pandas.pydata.org/pandas-docs/stable/user_guide/indexing.html#returning-a-view-versus-a-copy\n",
      "  BostonHousingData['CRIME'][BostonHousingData['CRIME']>60]=51.135\n"
     ]
    }
   ],
   "source": [
    "BostonHousingData['CRIME'][BostonHousingData['CRIME']>60]=51.135"
   ]
  },
  {
   "cell_type": "markdown",
   "id": "3420431d",
   "metadata": {},
   "source": [
    "# Missing Values Treatment"
   ]
  },
  {
   "cell_type": "code",
   "execution_count": 16,
   "id": "b6feceb5",
   "metadata": {},
   "outputs": [
    {
     "name": "stdout",
     "output_type": "stream",
     "text": [
      "CRIME           0\n",
      "Zone            0\n",
      "INDUS           0\n",
      "CHAS            0\n",
      "NOX             0\n",
      "Avg.Room        0\n",
      "AGE             0\n",
      "DIS             0\n",
      "RAD             0\n",
      "TAX             0\n",
      "PTRATIO         0\n",
      "B               0\n",
      "Lower Status    0\n",
      "MEDV            0\n",
      "dtype: int64\n"
     ]
    }
   ],
   "source": [
    "print(BostonHousingData.isnull().sum())"
   ]
  },
  {
   "cell_type": "raw",
   "id": "330d64ac",
   "metadata": {},
   "source": [
    "There are no missing values"
   ]
  },
  {
   "cell_type": "markdown",
   "id": "2056605d",
   "metadata": {},
   "source": [
    "# Feature Selection"
   ]
  },
  {
   "cell_type": "code",
   "execution_count": 17,
   "id": "aeeb1746",
   "metadata": {},
   "outputs": [
    {
     "data": {
      "image/png": "[encoded data removed]",
      "text/plain": [
       "<Figure size 720x360 with 1 Axes>"
      ]
     },
     "metadata": {
      "needs_background": "light"
     },
     "output_type": "display_data"
    },
    {
     "data": {
      "image/png": "[encoded data removed]",
      "text/plain": [
       "<Figure size 720x360 with 1 Axes>"
      ]
     },
     "metadata": {
      "needs_background": "light"
     },
     "output_type": "display_data"
    },
    {
     "data": {
      "image/png": "[encoded data removed]",
      "text/plain": [
       "<Figure size 720x360 with 1 Axes>"
      ]
     },
     "metadata": {
      "needs_background": "light"
     },
     "output_type": "display_data"
    },
    {
     "data": {
      "image/png": "[encoded data removed]",
      "text/plain": [
       "<Figure size 720x360 with 1 Axes>"
      ]
     },
     "metadata": {
      "needs_background": "light"
     },
     "output_type": "display_data"
    },
    {
     "data": {
      "image/png": "[encoded data removed]",
      "text/plain": [
       "<Figure size 720x360 with 1 Axes>"
      ]
     },
     "metadata": {
      "needs_background": "light"
     },
     "output_type": "display_data"
    },
    {
     "data": {
      "image/png": "[encoded data removed]",
      "text/plain": [
       "<Figure size 720x360 with 1 Axes>"
      ]
     },
     "metadata": {
      "needs_background": "light"
     },
     "output_type": "display_data"
    },
    {
     "data": {
      "image/png": "[encoded data removed]",
      "text/plain": [
       "<Figure size 720x360 with 1 Axes>"
      ]
     },
     "metadata": {
      "needs_background": "light"
     },
     "output_type": "display_data"
    },
    {
     "data": {
      "image/png": "[encoded data removed]",
      "text/plain": [
       "<Figure size 720x360 with 1 Axes>"
      ]
     },
     "metadata": {
      "needs_background": "light"
     },
     "output_type": "display_data"
    },
    {
     "data": {
      "image/png": "[encoded data removed]",
      "text/plain": [
       "<Figure size 720x360 with 1 Axes>"
      ]
     },
     "metadata": {
      "needs_background": "light"
     },
     "output_type": "display_data"
    },
    {
     "data": {
      "image/png": "[encoded data removed]",
      "text/plain": [
       "<Figure size 720x360 with 1 Axes>"
      ]
     },
     "metadata": {
      "needs_background": "light"
     },
     "output_type": "display_data"
    },
    {
     "data": {
      "image/png": "[encoded data removed]",
      "text/plain": [
       "<Figure size 720x360 with 1 Axes>"
      ]
     },
     "metadata": {
      "needs_background": "light"
     },
     "output_type": "display_data"
    }
   ],
   "source": [
    "Conticol1=['CRIME','Zone','INDUS','NOX','Avg.Room','AGE','DIS','TAX','PTRATIO','B','Lower Status']\n",
    "for predictor1 in Conticol1:\n",
    "    BostonHousingData.plot.scatter(x=predictor1,y='MEDV',figsize=(10,5),title=predictor1+\" \" +\"VS\"+\" \" \"MEDV\")\n",
    "    "
   ]
  },
  {
   "cell_type": "code",
   "execution_count": 18,
   "id": "8adf09c2",
   "metadata": {},
   "outputs": [
    {
     "data": {
      "text/html": [
       "<div>\n",
       "<style scoped>\n",
       "    .dataframe tbody tr th:only-of-type {\n",
       "        vertical-align: middle;\n",
       "    }\n",
       "\n",
       "    .dataframe tbody tr th {\n",
       "        vertical-align: top;\n",
       "    }\n",
       "\n",
       "    .dataframe thead th {\n",
       "        text-align: right;\n",
       "    }\n",
       "</style>\n",
       "<table border=\"1\" class=\"dataframe\">\n",
       "  <thead>\n",
       "    <tr style=\"text-align: right;\">\n",
       "      <th></th>\n",
       "      <th>MEDV</th>\n",
       "      <th>CRIME</th>\n",
       "      <th>Zone</th>\n",
       "      <th>INDUS</th>\n",
       "      <th>NOX</th>\n",
       "      <th>Avg.Room</th>\n",
       "      <th>AGE</th>\n",
       "      <th>DIS</th>\n",
       "      <th>TAX</th>\n",
       "      <th>PTRATIO</th>\n",
       "      <th>B</th>\n",
       "      <th>Lower Status</th>\n",
       "    </tr>\n",
       "  </thead>\n",
       "  <tbody>\n",
       "    <tr>\n",
       "      <th>MEDV</th>\n",
       "      <td>1.000000</td>\n",
       "      <td>-0.419261</td>\n",
       "      <td>0.360445</td>\n",
       "      <td>-0.483725</td>\n",
       "      <td>-0.427321</td>\n",
       "      <td>0.695360</td>\n",
       "      <td>-0.376955</td>\n",
       "      <td>0.249929</td>\n",
       "      <td>-0.468536</td>\n",
       "      <td>-0.507787</td>\n",
       "      <td>0.333461</td>\n",
       "      <td>-0.737663</td>\n",
       "    </tr>\n",
       "    <tr>\n",
       "      <th>CRIME</th>\n",
       "      <td>-0.419261</td>\n",
       "      <td>1.000000</td>\n",
       "      <td>-0.222329</td>\n",
       "      <td>0.450367</td>\n",
       "      <td>0.466012</td>\n",
       "      <td>-0.257303</td>\n",
       "      <td>0.388778</td>\n",
       "      <td>-0.417935</td>\n",
       "      <td>0.643987</td>\n",
       "      <td>0.319484</td>\n",
       "      <td>-0.429851</td>\n",
       "      <td>0.508474</td>\n",
       "    </tr>\n",
       "    <tr>\n",
       "      <th>Zone</th>\n",
       "      <td>0.360445</td>\n",
       "      <td>-0.222329</td>\n",
       "      <td>1.000000</td>\n",
       "      <td>-0.533828</td>\n",
       "      <td>-0.516604</td>\n",
       "      <td>0.311991</td>\n",
       "      <td>-0.569537</td>\n",
       "      <td>0.664408</td>\n",
       "      <td>-0.314563</td>\n",
       "      <td>-0.391679</td>\n",
       "      <td>0.175520</td>\n",
       "      <td>-0.412995</td>\n",
       "    </tr>\n",
       "    <tr>\n",
       "      <th>INDUS</th>\n",
       "      <td>-0.483725</td>\n",
       "      <td>0.450367</td>\n",
       "      <td>-0.533828</td>\n",
       "      <td>1.000000</td>\n",
       "      <td>0.763651</td>\n",
       "      <td>-0.391676</td>\n",
       "      <td>0.644779</td>\n",
       "      <td>-0.708027</td>\n",
       "      <td>0.720760</td>\n",
       "      <td>0.383248</td>\n",
       "      <td>-0.356977</td>\n",
       "      <td>0.603800</td>\n",
       "    </tr>\n",
       "    <tr>\n",
       "      <th>NOX</th>\n",
       "      <td>-0.427321</td>\n",
       "      <td>0.466012</td>\n",
       "      <td>-0.516604</td>\n",
       "      <td>0.763651</td>\n",
       "      <td>1.000000</td>\n",
       "      <td>-0.302188</td>\n",
       "      <td>0.731470</td>\n",
       "      <td>-0.769230</td>\n",
       "      <td>0.668023</td>\n",
       "      <td>0.188933</td>\n",
       "      <td>-0.380051</td>\n",
       "      <td>0.590879</td>\n",
       "    </tr>\n",
       "    <tr>\n",
       "      <th>Avg.Room</th>\n",
       "      <td>0.695360</td>\n",
       "      <td>-0.257303</td>\n",
       "      <td>0.311991</td>\n",
       "      <td>-0.391676</td>\n",
       "      <td>-0.302188</td>\n",
       "      <td>1.000000</td>\n",
       "      <td>-0.240265</td>\n",
       "      <td>0.205246</td>\n",
       "      <td>-0.292048</td>\n",
       "      <td>-0.355501</td>\n",
       "      <td>0.128069</td>\n",
       "      <td>-0.613808</td>\n",
       "    </tr>\n",
       "    <tr>\n",
       "      <th>AGE</th>\n",
       "      <td>-0.376955</td>\n",
       "      <td>0.388778</td>\n",
       "      <td>-0.569537</td>\n",
       "      <td>0.644779</td>\n",
       "      <td>0.731470</td>\n",
       "      <td>-0.240265</td>\n",
       "      <td>1.000000</td>\n",
       "      <td>-0.747881</td>\n",
       "      <td>0.506456</td>\n",
       "      <td>0.261515</td>\n",
       "      <td>-0.273534</td>\n",
       "      <td>0.602339</td>\n",
       "    </tr>\n",
       "    <tr>\n",
       "      <th>DIS</th>\n",
       "      <td>0.249929</td>\n",
       "      <td>-0.417935</td>\n",
       "      <td>0.664408</td>\n",
       "      <td>-0.708027</td>\n",
       "      <td>-0.769230</td>\n",
       "      <td>0.205246</td>\n",
       "      <td>-0.747881</td>\n",
       "      <td>1.000000</td>\n",
       "      <td>-0.534432</td>\n",
       "      <td>-0.232471</td>\n",
       "      <td>0.291512</td>\n",
       "      <td>-0.496996</td>\n",
       "    </tr>\n",
       "    <tr>\n",
       "      <th>TAX</th>\n",
       "      <td>-0.468536</td>\n",
       "      <td>0.643987</td>\n",
       "      <td>-0.314563</td>\n",
       "      <td>0.720760</td>\n",
       "      <td>0.668023</td>\n",
       "      <td>-0.292048</td>\n",
       "      <td>0.506456</td>\n",
       "      <td>-0.534432</td>\n",
       "      <td>1.000000</td>\n",
       "      <td>0.460853</td>\n",
       "      <td>-0.441808</td>\n",
       "      <td>0.543993</td>\n",
       "    </tr>\n",
       "    <tr>\n",
       "      <th>PTRATIO</th>\n",
       "      <td>-0.507787</td>\n",
       "      <td>0.319484</td>\n",
       "      <td>-0.391679</td>\n",
       "      <td>0.383248</td>\n",
       "      <td>0.188933</td>\n",
       "      <td>-0.355501</td>\n",
       "      <td>0.261515</td>\n",
       "      <td>-0.232471</td>\n",
       "      <td>0.460853</td>\n",
       "      <td>1.000000</td>\n",
       "      <td>-0.177383</td>\n",
       "      <td>0.374044</td>\n",
       "    </tr>\n",
       "    <tr>\n",
       "      <th>B</th>\n",
       "      <td>0.333461</td>\n",
       "      <td>-0.429851</td>\n",
       "      <td>0.175520</td>\n",
       "      <td>-0.356977</td>\n",
       "      <td>-0.380051</td>\n",
       "      <td>0.128069</td>\n",
       "      <td>-0.273534</td>\n",
       "      <td>0.291512</td>\n",
       "      <td>-0.441808</td>\n",
       "      <td>-0.177383</td>\n",
       "      <td>1.000000</td>\n",
       "      <td>-0.366087</td>\n",
       "    </tr>\n",
       "    <tr>\n",
       "      <th>Lower Status</th>\n",
       "      <td>-0.737663</td>\n",
       "      <td>0.508474</td>\n",
       "      <td>-0.412995</td>\n",
       "      <td>0.603800</td>\n",
       "      <td>0.590879</td>\n",
       "      <td>-0.613808</td>\n",
       "      <td>0.602339</td>\n",
       "      <td>-0.496996</td>\n",
       "      <td>0.543993</td>\n",
       "      <td>0.374044</td>\n",
       "      <td>-0.366087</td>\n",
       "      <td>1.000000</td>\n",
       "    </tr>\n",
       "  </tbody>\n",
       "</table>\n",
       "</div>"
      ],
      "text/plain": [
       "                  MEDV     CRIME      Zone     INDUS       NOX  Avg.Room  \\\n",
       "MEDV          1.000000 -0.419261  0.360445 -0.483725 -0.427321  0.695360   \n",
       "CRIME        -0.419261  1.000000 -0.222329  0.450367  0.466012 -0.257303   \n",
       "Zone          0.360445 -0.222329  1.000000 -0.533828 -0.516604  0.311991   \n",
       "INDUS        -0.483725  0.450367 -0.533828  1.000000  0.763651 -0.391676   \n",
       "NOX          -0.427321  0.466012 -0.516604  0.763651  1.000000 -0.302188   \n",
       "Avg.Room      0.695360 -0.257303  0.311991 -0.391676 -0.302188  1.000000   \n",
       "AGE          -0.376955  0.388778 -0.569537  0.644779  0.731470 -0.240265   \n",
       "DIS           0.249929 -0.417935  0.664408 -0.708027 -0.769230  0.205246   \n",
       "TAX          -0.468536  0.643987 -0.314563  0.720760  0.668023 -0.292048   \n",
       "PTRATIO      -0.507787  0.319484 -0.391679  0.383248  0.188933 -0.355501   \n",
       "B             0.333461 -0.429851  0.175520 -0.356977 -0.380051  0.128069   \n",
       "Lower Status -0.737663  0.508474 -0.412995  0.603800  0.590879 -0.613808   \n",
       "\n",
       "                   AGE       DIS       TAX   PTRATIO         B  Lower Status  \n",
       "MEDV         -0.376955  0.249929 -0.468536 -0.507787  0.333461     -0.737663  \n",
       "CRIME         0.388778 -0.417935  0.643987  0.319484 -0.429851      0.508474  \n",
       "Zone         -0.569537  0.664408 -0.314563 -0.391679  0.175520     -0.412995  \n",
       "INDUS         0.644779 -0.708027  0.720760  0.383248 -0.356977      0.603800  \n",
       "NOX           0.731470 -0.769230  0.668023  0.188933 -0.380051      0.590879  \n",
       "Avg.Room     -0.240265  0.205246 -0.292048 -0.355501  0.128069     -0.613808  \n",
       "AGE           1.000000 -0.747881  0.506456  0.261515 -0.273534      0.602339  \n",
       "DIS          -0.747881  1.000000 -0.534432 -0.232471  0.291512     -0.496996  \n",
       "TAX           0.506456 -0.534432  1.000000  0.460853 -0.441808      0.543993  \n",
       "PTRATIO       0.261515 -0.232471  0.460853  1.000000 -0.177383      0.374044  \n",
       "B            -0.273534  0.291512 -0.441808 -0.177383  1.000000     -0.366087  \n",
       "Lower Status  0.602339 -0.496996  0.543993  0.374044 -0.366087      1.000000  "
      ]
     },
     "execution_count": 18,
     "metadata": {},
     "output_type": "execute_result"
    }
   ],
   "source": [
    "Conticol12=['MEDV','CRIME','Zone','INDUS','NOX','Avg.Room','AGE','DIS','TAX','PTRATIO','B','Lower Status']\n",
    "subset=BostonHousingData[Conticol12].corr()\n",
    "subset"
   ]
  },
  {
   "cell_type": "code",
   "execution_count": 19,
   "id": "682e4d94",
   "metadata": {},
   "outputs": [
    {
     "data": {
      "text/plain": [
       "MEDV            1.000000\n",
       "Avg.Room        0.695360\n",
       "PTRATIO        -0.507787\n",
       "Lower Status   -0.737663\n",
       "Name: MEDV, dtype: float64"
      ]
     },
     "execution_count": 19,
     "metadata": {},
     "output_type": "execute_result"
    }
   ],
   "source": [
    "subset['MEDV'][abs(subset['MEDV'])>0.5]"
   ]
  },
  {
   "cell_type": "markdown",
   "id": "ecafc09c",
   "metadata": {},
   "source": [
    "# Final Selected Continous Variables\n",
    "Avg.Room,PTRATIO,Lower Status"
   ]
  },
  {
   "cell_type": "code",
   "execution_count": 20,
   "id": "528a69ea",
   "metadata": {},
   "outputs": [
    {
     "data": {
      "image/png": "[encoded data removed]",
      "text/plain": [
       "<Figure size 720x360 with 2 Axes>"
      ]
     },
     "metadata": {
      "needs_background": "light"
     },
     "output_type": "display_data"
    }
   ],
   "source": [
    "Catcol=['CHAS','RAD']\n",
    "\n",
    "import matplotlib.pyplot as plt\n",
    "\n",
    "fig,plotcanvas=plt.subplots(nrows=1,ncols=len(Catcol),figsize=(10,5))\n",
    "\n",
    "for predictor,i in zip(Catcol,range(len(Catcol))):\n",
    "    BostonHousingData.boxplot(column='MEDV',by=predictor,figsize=(10,5),vert=True,ax=plotcanvas[i])"
   ]
  },
  {
   "cell_type": "code",
   "execution_count": 21,
   "id": "f8c5781f",
   "metadata": {},
   "outputs": [],
   "source": [
    "def FunctionAnova(inpData, TargetVariable, CategoricalPredictorList):\n",
    "    from scipy.stats import f_oneway\n",
    "    SelectedPredictors=[]\n",
    "    \n",
    "    print('##### ANOVA Results ##### \\n')\n",
    "    for predictor in CategoricalPredictorList:\n",
    "        CategoryGroupLists=inpData.groupby(predictor)[TargetVariable].apply(list)\n",
    "        AnovaResults = f_oneway(*CategoryGroupLists)\n",
    "        \n",
    "        if (AnovaResults[1] < 0.05):\n",
    "            print(predictor, 'is correlated with', TargetVariable, '| P-Value:', AnovaResults[1])\n",
    "            SelectedPredictors.append(predictor)\n",
    "        else:\n",
    "            print(predictor, 'is NOT correlated with', TargetVariable, '| P-Value:', AnovaResults[1])\n",
    "    \n",
    "    return(SelectedPredictors)"
   ]
  },
  {
   "cell_type": "code",
   "execution_count": 22,
   "id": "713a900c",
   "metadata": {},
   "outputs": [
    {
     "name": "stdout",
     "output_type": "stream",
     "text": [
      "##### ANOVA Results ##### \n",
      "\n",
      "CHAS is correlated with MEDV | P-Value: 7.390623170520815e-05\n",
      "RAD is correlated with MEDV | P-Value: 3.1256493316010175e-24\n"
     ]
    },
    {
     "data": {
      "text/plain": [
       "['CHAS', 'RAD']"
      ]
     },
     "execution_count": 22,
     "metadata": {},
     "output_type": "execute_result"
    }
   ],
   "source": [
    "CategoricalPredictorList=['CHAS','RAD']\n",
    "FunctionAnova(inpData=BostonHousingData, \n",
    "              TargetVariable='MEDV', \n",
    "              CategoricalPredictorList=CategoricalPredictorList)"
   ]
  },
  {
   "cell_type": "markdown",
   "id": "3c60bcba",
   "metadata": {},
   "source": [
    "# Final Select Categorcal Variables\n",
    "CHAS,RAD"
   ]
  },
  {
   "cell_type": "markdown",
   "id": "86b01d01",
   "metadata": {},
   "source": [
    "# Final Predictors For ML"
   ]
  },
  {
   "cell_type": "code",
   "execution_count": 23,
   "id": "cafc7fd6",
   "metadata": {},
   "outputs": [],
   "source": [
    "FinalColums=['CHAS','RAD','Avg.Room','PTRATIO','Lower Status']"
   ]
  },
  {
   "cell_type": "code",
   "execution_count": 24,
   "id": "284d17a5",
   "metadata": {},
   "outputs": [
    {
     "data": {
      "text/html": [
       "<div>\n",
       "<style scoped>\n",
       "    .dataframe tbody tr th:only-of-type {\n",
       "        vertical-align: middle;\n",
       "    }\n",
       "\n",
       "    .dataframe tbody tr th {\n",
       "        vertical-align: top;\n",
       "    }\n",
       "\n",
       "    .dataframe thead th {\n",
       "        text-align: right;\n",
       "    }\n",
       "</style>\n",
       "<table border=\"1\" class=\"dataframe\">\n",
       "  <thead>\n",
       "    <tr style=\"text-align: right;\">\n",
       "      <th></th>\n",
       "      <th>CHAS</th>\n",
       "      <th>RAD</th>\n",
       "      <th>Avg.Room</th>\n",
       "      <th>PTRATIO</th>\n",
       "      <th>Lower Status</th>\n",
       "    </tr>\n",
       "  </thead>\n",
       "  <tbody>\n",
       "    <tr>\n",
       "      <th>0</th>\n",
       "      <td>0</td>\n",
       "      <td>1</td>\n",
       "      <td>6.575</td>\n",
       "      <td>15.3</td>\n",
       "      <td>4.98</td>\n",
       "    </tr>\n",
       "    <tr>\n",
       "      <th>1</th>\n",
       "      <td>0</td>\n",
       "      <td>2</td>\n",
       "      <td>6.421</td>\n",
       "      <td>17.8</td>\n",
       "      <td>9.14</td>\n",
       "    </tr>\n",
       "    <tr>\n",
       "      <th>2</th>\n",
       "      <td>0</td>\n",
       "      <td>2</td>\n",
       "      <td>7.185</td>\n",
       "      <td>17.8</td>\n",
       "      <td>4.03</td>\n",
       "    </tr>\n",
       "    <tr>\n",
       "      <th>3</th>\n",
       "      <td>0</td>\n",
       "      <td>3</td>\n",
       "      <td>6.998</td>\n",
       "      <td>18.7</td>\n",
       "      <td>2.94</td>\n",
       "    </tr>\n",
       "    <tr>\n",
       "      <th>4</th>\n",
       "      <td>0</td>\n",
       "      <td>3</td>\n",
       "      <td>7.147</td>\n",
       "      <td>18.7</td>\n",
       "      <td>5.33</td>\n",
       "    </tr>\n",
       "  </tbody>\n",
       "</table>\n",
       "</div>"
      ],
      "text/plain": [
       "   CHAS  RAD  Avg.Room  PTRATIO  Lower Status\n",
       "0     0    1     6.575     15.3          4.98\n",
       "1     0    2     6.421     17.8          9.14\n",
       "2     0    2     7.185     17.8          4.03\n",
       "3     0    3     6.998     18.7          2.94\n",
       "4     0    3     7.147     18.7          5.33"
      ]
     },
     "execution_count": 24,
     "metadata": {},
     "output_type": "execute_result"
    }
   ],
   "source": [
    "Dataforml=BostonHousingData[FinalColums]\n",
    "Dataforml.head()"
   ]
  },
  {
   "cell_type": "markdown",
   "id": "b7e44744",
   "metadata": {},
   "source": [
    "# Adding Target Variable"
   ]
  },
  {
   "cell_type": "code",
   "execution_count": 25,
   "id": "4e756b88",
   "metadata": {},
   "outputs": [
    {
     "name": "stderr",
     "output_type": "stream",
     "text": [
      "<ipython-input-25-5547deef4d8d>:1: SettingWithCopyWarning: \n",
      "A value is trying to be set on a copy of a slice from a DataFrame.\n",
      "Try using .loc[row_indexer,col_indexer] = value instead\n",
      "\n",
      "See the caveats in the documentation: https://pandas.pydata.org/pandas-docs/stable/user_guide/indexing.html#returning-a-view-versus-a-copy\n",
      "  Dataforml['MEDV']=BostonHousingData['MEDV']\n"
     ]
    }
   ],
   "source": [
    "Dataforml['MEDV']=BostonHousingData['MEDV']"
   ]
  },
  {
   "cell_type": "code",
   "execution_count": 26,
   "id": "e214baf8",
   "metadata": {},
   "outputs": [
    {
     "data": {
      "text/html": [
       "<div>\n",
       "<style scoped>\n",
       "    .dataframe tbody tr th:only-of-type {\n",
       "        vertical-align: middle;\n",
       "    }\n",
       "\n",
       "    .dataframe tbody tr th {\n",
       "        vertical-align: top;\n",
       "    }\n",
       "\n",
       "    .dataframe thead th {\n",
       "        text-align: right;\n",
       "    }\n",
       "</style>\n",
       "<table border=\"1\" class=\"dataframe\">\n",
       "  <thead>\n",
       "    <tr style=\"text-align: right;\">\n",
       "      <th></th>\n",
       "      <th>CHAS</th>\n",
       "      <th>RAD</th>\n",
       "      <th>Avg.Room</th>\n",
       "      <th>PTRATIO</th>\n",
       "      <th>Lower Status</th>\n",
       "      <th>MEDV</th>\n",
       "    </tr>\n",
       "  </thead>\n",
       "  <tbody>\n",
       "    <tr>\n",
       "      <th>0</th>\n",
       "      <td>0</td>\n",
       "      <td>1</td>\n",
       "      <td>6.575</td>\n",
       "      <td>15.3</td>\n",
       "      <td>4.98</td>\n",
       "      <td>24.0</td>\n",
       "    </tr>\n",
       "    <tr>\n",
       "      <th>1</th>\n",
       "      <td>0</td>\n",
       "      <td>2</td>\n",
       "      <td>6.421</td>\n",
       "      <td>17.8</td>\n",
       "      <td>9.14</td>\n",
       "      <td>21.6</td>\n",
       "    </tr>\n",
       "    <tr>\n",
       "      <th>2</th>\n",
       "      <td>0</td>\n",
       "      <td>2</td>\n",
       "      <td>7.185</td>\n",
       "      <td>17.8</td>\n",
       "      <td>4.03</td>\n",
       "      <td>34.7</td>\n",
       "    </tr>\n",
       "    <tr>\n",
       "      <th>3</th>\n",
       "      <td>0</td>\n",
       "      <td>3</td>\n",
       "      <td>6.998</td>\n",
       "      <td>18.7</td>\n",
       "      <td>2.94</td>\n",
       "      <td>33.4</td>\n",
       "    </tr>\n",
       "    <tr>\n",
       "      <th>4</th>\n",
       "      <td>0</td>\n",
       "      <td>3</td>\n",
       "      <td>7.147</td>\n",
       "      <td>18.7</td>\n",
       "      <td>5.33</td>\n",
       "      <td>36.2</td>\n",
       "    </tr>\n",
       "  </tbody>\n",
       "</table>\n",
       "</div>"
      ],
      "text/plain": [
       "   CHAS  RAD  Avg.Room  PTRATIO  Lower Status  MEDV\n",
       "0     0    1     6.575     15.3          4.98  24.0\n",
       "1     0    2     6.421     17.8          9.14  21.6\n",
       "2     0    2     7.185     17.8          4.03  34.7\n",
       "3     0    3     6.998     18.7          2.94  33.4\n",
       "4     0    3     7.147     18.7          5.33  36.2"
      ]
     },
     "execution_count": 26,
     "metadata": {},
     "output_type": "execute_result"
    }
   ],
   "source": [
    "Dataforml.head()"
   ]
  },
  {
   "cell_type": "markdown",
   "id": "91bf6850",
   "metadata": {},
   "source": [
    "# Machine Learning: Splitting the data into Training and Testing sample"
   ]
  },
  {
   "cell_type": "code",
   "execution_count": 27,
   "id": "f2519f17",
   "metadata": {},
   "outputs": [
    {
     "data": {
      "text/plain": [
       "Index(['CHAS', 'RAD', 'Avg.Room', 'PTRATIO', 'Lower Status', 'MEDV'], dtype='object')"
      ]
     },
     "execution_count": 27,
     "metadata": {},
     "output_type": "execute_result"
    }
   ],
   "source": [
    "Dataforml.columns"
   ]
  },
  {
   "cell_type": "code",
   "execution_count": 28,
   "id": "62501484",
   "metadata": {},
   "outputs": [],
   "source": [
    "Target='MEDV'\n",
    "Predictors=['CHAS','RAD','Avg.Room','PTRATIO','Lower Status']"
   ]
  },
  {
   "cell_type": "code",
   "execution_count": 29,
   "id": "08476208",
   "metadata": {},
   "outputs": [],
   "source": [
    "X=Dataforml[Predictors].values\n",
    "Y=Dataforml[Target].values"
   ]
  },
  {
   "cell_type": "code",
   "execution_count": 30,
   "id": "98955185",
   "metadata": {},
   "outputs": [],
   "source": [
    "from sklearn.model_selection import  train_test_split\n",
    "X_train,X_test,Y_train,Y_test=train_test_split(X,Y,test_size=0.3,random_state=250)"
   ]
  },
  {
   "cell_type": "code",
   "execution_count": 31,
   "id": "bb59ba7b",
   "metadata": {},
   "outputs": [
    {
     "data": {
      "text/plain": [
       "array([[ 0.   ,  2.   ,  6.417, 17.8  ,  8.81 ],\n",
       "       [ 0.   ,  4.   ,  5.998, 16.8  ,  8.43 ],\n",
       "       [ 0.   ,  5.   ,  6.13 , 14.7  , 27.8  ],\n",
       "       [ 0.   , 24.   ,  6.417, 20.2  , 19.31 ]])"
      ]
     },
     "execution_count": 31,
     "metadata": {},
     "output_type": "execute_result"
    }
   ],
   "source": [
    "np.set_printoptions(suppress=True)\n",
    "X_train[0:4]"
   ]
  },
  {
   "cell_type": "code",
   "execution_count": 32,
   "id": "fa388aff",
   "metadata": {},
   "outputs": [
    {
     "data": {
      "text/plain": [
       "array([22.6, 23.4, 13.8, 13. ])"
      ]
     },
     "execution_count": 32,
     "metadata": {},
     "output_type": "execute_result"
    }
   ],
   "source": [
    "Y_train[0:4]"
   ]
  },
  {
   "cell_type": "code",
   "execution_count": 51,
   "id": "e9fb581a",
   "metadata": {},
   "outputs": [],
   "source": [
    "from sklearn.preprocessing import StandardScaler, MinMaxScaler\n",
    "predictorscaler=MinMaxScaler()\n",
    "predictorscalerfit=predictorscaler.fit(X)\n",
    "\n",
    "X=predictorscalerfit.transform(X)\n",
    "\n",
    "\n",
    "from sklearn.model_selection import train_test_split\n",
    "X_train, X_test, Y_train, Y_test = train_test_split(X, Y, test_size=0.2, random_state=410)"
   ]
  },
  {
   "cell_type": "code",
   "execution_count": 52,
   "id": "687f5292",
   "metadata": {},
   "outputs": [
    {
     "name": "stdout",
     "output_type": "stream",
     "text": [
      "(404, 5)\n",
      "(404,)\n",
      "(102, 5)\n",
      "(102,)\n"
     ]
    }
   ],
   "source": [
    "print(X_train.shape)\n",
    "print(Y_train.shape)\n",
    "print(X_test.shape)\n",
    "print(Y_test.shape)"
   ]
  },
  {
   "cell_type": "code",
   "execution_count": null,
   "id": "e0c62ff2",
   "metadata": {},
   "outputs": [],
   "source": []
  },
  {
   "cell_type": "markdown",
   "id": "ef9ef430",
   "metadata": {},
   "source": [
    "# Multiple Linear Regression"
   ]
  },
  {
   "cell_type": "code",
   "execution_count": 33,
   "id": "f036b7dd",
   "metadata": {},
   "outputs": [],
   "source": [
    "from sklearn.linear_model import LinearRegression"
   ]
  },
  {
   "cell_type": "code",
   "execution_count": 34,
   "id": "a301041d",
   "metadata": {},
   "outputs": [],
   "source": [
    "RegModel=LinearRegression()"
   ]
  },
  {
   "cell_type": "code",
   "execution_count": 35,
   "id": "fa790cd1",
   "metadata": {},
   "outputs": [
    {
     "name": "stdout",
     "output_type": "stream",
     "text": [
      "LinearRegression()\n"
     ]
    }
   ],
   "source": [
    "print(RegModel)"
   ]
  },
  {
   "cell_type": "code",
   "execution_count": 36,
   "id": "ac842c7e",
   "metadata": {},
   "outputs": [
    {
     "name": "stdout",
     "output_type": "stream",
     "text": [
      "R Squared values is: 0.7002\n"
     ]
    }
   ],
   "source": [
    "LREG=RegModel.fit(X_train,Y_train)\n",
    "from sklearn import metrics\n",
    "print('R Squared values is:',round(metrics.r2_score(Y_train,LREG.predict(X_train)),4))"
   ]
  },
  {
   "cell_type": "code",
   "execution_count": 37,
   "id": "40b53a50",
   "metadata": {},
   "outputs": [
    {
     "name": "stdout",
     "output_type": "stream",
     "text": [
      "Model Validation & Accuracy\n",
      "calculating the error of prediction for each row\n",
      "   MEDV  PredictedMEDV        APE\n",
      "0  20.8           17.0  18.269231\n",
      "1  36.5           35.0   4.109589\n",
      "2  36.2           24.0  33.701657\n",
      "3  20.6           24.0  16.504854\n",
      "4  30.1           28.0   6.976744\n",
      "Mean Accuracy on test data 80.5953311804812\n",
      "Median Accuracy on test Data 87.92523364485982\n",
      "Accuracy values for 10 cross fold validation [88.78472351 90.01462311 82.93367348 82.14573469 86.66783537 88.63411206\n",
      " 84.88621233 48.83600797 51.6418211  85.29449921]\n",
      "Final Avg Model Accuracy 78.98\n"
     ]
    }
   ],
   "source": [
    "print('Model Validation & Accuracy')\n",
    "prediction=LREG.predict(X_test)\n",
    "TDR=pd.DataFrame(data=X_test,columns=Predictors)\n",
    "TDR[Target]=Y_test\n",
    "TDR[('Predicted'+Target)]=np.round(prediction)\n",
    "\n",
    "print('calculating the error of prediction for each row')\n",
    "TDR['APE']=100*((abs(TDR['MEDV']-TDR['PredictedMEDV']))/TDR['MEDV'])\n",
    "print(TDR[[Target,'Predicted'+Target,'APE']].head()) \n",
    "\n",
    "MeanAPE=np.mean(TDR['APE'])\n",
    "MedianAPE=np.median(TDR['APE'])\n",
    "\n",
    "ACC=100-MeanAPE\n",
    "MACC=100-MedianAPE\n",
    "\n",
    "print('Mean Accuracy on test data',ACC)\n",
    "print('Median Accuracy on test Data',MACC)\n",
    "\n",
    "def acc_values(ori,pre):\n",
    "    Mape=np.mean(100*(np.abs(ori-pre)/ori))\n",
    "    return(100-Mape)\n",
    "\n",
    "from sklearn.metrics import make_scorer\n",
    "custom_scoreing=make_scorer(acc_values,greater_is_better=True) \n",
    "\n",
    "from sklearn.model_selection import cross_val_score\n",
    "Acc_values=cross_val_score(RegModel,X,Y,cv=10,scoring=custom_scoreing)\n",
    "print('Accuracy values for 10 cross fold validation',Acc_values)\n",
    "print('Final Avg Model Accuracy',round(Acc_values.mean(),2))"
   ]
  },
  {
   "cell_type": "code",
   "execution_count": 38,
   "id": "eda02cf8",
   "metadata": {},
   "outputs": [
    {
     "data": {
      "text/plain": [
       "array([ 2.79375175, -0.00464896,  5.20497564, -0.93371188, -0.53102241])"
      ]
     },
     "execution_count": 38,
     "metadata": {},
     "output_type": "execute_result"
    }
   ],
   "source": [
    "LREG.coef_"
   ]
  },
  {
   "cell_type": "markdown",
   "id": "19028216",
   "metadata": {},
   "source": [
    "# Decision Trees"
   ]
  },
  {
   "cell_type": "code",
   "execution_count": 39,
   "id": "418bbdea",
   "metadata": {},
   "outputs": [
    {
     "name": "stdout",
     "output_type": "stream",
     "text": [
      "DecisionTreeRegressor(max_depth=5)\n",
      "R2 Value is: 0.9103827364488317\n"
     ]
    }
   ],
   "source": [
    "from sklearn.tree import DecisionTreeRegressor\n",
    "RegModel=DecisionTreeRegressor(max_depth=5,criterion='mse')\n",
    "print(RegModel)\n",
    "DT=RegModel.fit(X_train,Y_train)\n",
    "from sklearn import metrics\n",
    "print('R2 Value is:',metrics.r2_score(Y_train,DT.predict(X_train)))"
   ]
  },
  {
   "cell_type": "code",
   "execution_count": 40,
   "id": "813d2387",
   "metadata": {},
   "outputs": [
    {
     "name": "stdout",
     "output_type": "stream",
     "text": [
      "Model Validation & Accuracy Calculations\n",
      "   MEDV  PredictedMEDV\n",
      "0  20.8           21.0\n",
      "1  36.5           34.0\n",
      "2  36.2           25.0\n",
      "3  20.6           21.0\n",
      "4  30.1           25.0\n",
      "Mean Accuracy error on test data 85.0003020962599\n",
      "Median Accuracy error on test data 91.24802883532327\n",
      "10-fold cross validation Accuracy: [87.26540355 91.67430612 87.77262804 86.87328743 88.14917801 88.99861781\n",
      " 88.56381116 60.06188525 74.27758535 73.54170234]\n",
      "Avg Acc of the Model 82.72\n"
     ]
    },
    {
     "data": {
      "text/plain": [
       "<AxesSubplot:>"
      ]
     },
     "execution_count": 40,
     "metadata": {},
     "output_type": "execute_result"
    },
    {
     "data": {
      "image/png": "[encoded data removed]",
      "text/plain": [
       "<Figure size 432x288 with 1 Axes>"
      ]
     },
     "metadata": {
      "needs_background": "light"
     },
     "output_type": "display_data"
    }
   ],
   "source": [
    "print('Model Validation & Accuracy Calculations')\n",
    "predictions=DT.predict(X_test)\n",
    "TDR=pd.DataFrame(data=X_test,columns=Predictors)\n",
    "TDR[Target]=Y_test\n",
    "TDR[('Predicted'+Target)]=np.round(predictions)\n",
    "TDR['APE']=100*((abs(TDR['MEDV']-TDR['PredictedMEDV']))/TDR['MEDV'])\n",
    "\n",
    "print(TDR[[Target,'Predicted'+Target]].head())\n",
    "\n",
    "MeanAPE=np.mean(TDR['APE'])\n",
    "MedianAPE=np.median(TDR['APE'])\n",
    "\n",
    "ACC=100-MeanAPE\n",
    "MACC=100-MedianAPE\n",
    "\n",
    "print('Mean Accuracy error on test data',ACC)\n",
    "print('Median Accuracy error on test data',MACC)\n",
    "\n",
    "def dt_val(ori,pre):\n",
    "    Mape=np.mean(100*(np.abs(ori-pre)/ori))\n",
    "    return(100-Mape)\n",
    "\n",
    "from sklearn.metrics import make_scorer\n",
    "custom_scoring=make_scorer(dt_val,greater_is_better=True)\n",
    "\n",
    "from sklearn.model_selection import cross_val_score\n",
    "Acc_val=cross_val_score(RegModel,X,Y,cv=10,scoring=custom_scoring)\n",
    "print('10-fold cross validation Accuracy:',Acc_val)\n",
    "print('Avg Acc of the Model',round(Acc_val.mean(),2))\n",
    "\n",
    "%matplotlib inline\n",
    "feature_importances = pd.Series(DT.feature_importances_, index=Predictors)\n",
    "feature_importances.nlargest(10).plot(kind='barh')"
   ]
  },
  {
   "cell_type": "markdown",
   "id": "519931e3",
   "metadata": {},
   "source": [
    "# Random forest"
   ]
  },
  {
   "cell_type": "code",
   "execution_count": 59,
   "id": "35a0daed",
   "metadata": {},
   "outputs": [
    {
     "name": "stdout",
     "output_type": "stream",
     "text": [
      "RandomForestRegressor(max_depth=5, n_estimators=1000)\n",
      "R2 Score is: 0.9156225737780724\n",
      "Model Validation & Accuracy Calculations\n",
      "   MEDV  PredictedMEDV        APE\n",
      "0  10.2          16.41  60.882353\n",
      "1  20.2          21.68   7.326733\n",
      "2  32.9          35.30   7.294833\n",
      "3  22.5          20.56   8.622222\n",
      "4  33.4          35.17   5.299401\n",
      "5  22.4          19.74  11.875000\n",
      "6  15.2          16.45   8.223684\n",
      "7  34.9          31.67   9.255014\n",
      "8  19.8          19.60   1.010101\n",
      "9  23.1          19.71  14.675325\n",
      "Mean Accuracy 86.1155398919573\n",
      "Median Accuracy 90.71588581669228\n",
      "10-fold cross validation Accuracy: [88.9863426  93.55862079 87.27824875 88.1743686  89.20651563 91.27358495\n",
      " 87.84824655 62.89377369 74.298547   80.25521662]\n",
      "Avg Acc of the Model 84.38\n"
     ]
    },
    {
     "data": {
      "text/plain": [
       "<AxesSubplot:>"
      ]
     },
     "execution_count": 59,
     "metadata": {},
     "output_type": "execute_result"
    },
    {
     "data": {
      "image/png": "[encoded data removed]",
      "text/plain": [
       "<Figure size 432x288 with 1 Axes>"
      ]
     },
     "metadata": {
      "needs_background": "light"
     },
     "output_type": "display_data"
    }
   ],
   "source": [
    "from sklearn.ensemble import RandomForestRegressor\n",
    "RegModel=RandomForestRegressor(max_depth=5,n_estimators=1000,criterion='mse')\n",
    "print(RegModel)\n",
    "RF=RegModel.fit(X_train,Y_train)\n",
    "prediction=RF.predict(X_test)\n",
    "\n",
    "from sklearn import metrics\n",
    "print('R2 Score is:',metrics.r2_score(Y_train,RF.predict(X_train)))\n",
    "\n",
    "print('Model Validation & Accuracy Calculations')\n",
    "TDR=pd.DataFrame(data=X_test,columns=Predictors)\n",
    "TDR[Target]=Y_test\n",
    "TDR[('Predicted'+Target)]=np.round((prediction),2)\n",
    "TDR['APE']=100*((abs(TDR['MEDV']-TDR['PredictedMEDV']))/TDR['MEDV'])\n",
    "print(TDR[[Target,'Predicted'+Target,'APE']].head(10))\n",
    "\n",
    "MAPE=np.mean(TDR['APE'])\n",
    "MedianMAPE=np.median(TDR['APE'])\n",
    "Accuracy=100-MAPE\n",
    "MedianAccuracy=100-MedianMAPE\n",
    "print('Mean Accuracy',Accuracy)\n",
    "print('Median Accuracy',MedianAccuracy)\n",
    "\n",
    "def acc_val(ori,pre):\n",
    "    MAPE=np.mean(np.abs(100*(ori-pre)/ori))\n",
    "    return(100-MAPE)\n",
    "\n",
    "from sklearn.metrics import make_scorer\n",
    "custom_scoring=make_scorer(acc_val,greater_is_better=True)\n",
    "\n",
    "from sklearn.model_selection import cross_val_score\n",
    "Acc_val=cross_val_score(RegModel,X,Y,cv=10,scoring=custom_scoring)\n",
    "print('10-fold cross validation Accuracy:',Acc_val)\n",
    "print('Avg Acc of the Model',round(Acc_val.mean(),2))\n",
    "\n",
    "%matplotlib inline\n",
    "feature_importances = pd.Series(RF.feature_importances_, index=Predictors)\n",
    "feature_importances.nlargest(10).plot(kind='barh')\n"
   ]
  },
  {
   "cell_type": "markdown",
   "id": "1de15bbb",
   "metadata": {},
   "source": [
    "# Adaboost"
   ]
  },
  {
   "cell_type": "code",
   "execution_count": 43,
   "id": "0c11f962",
   "metadata": {},
   "outputs": [
    {
     "name": "stdout",
     "output_type": "stream",
     "text": [
      "AdaBoostRegressor(base_estimator=DecisionTreeRegressor(max_depth=3),\n",
      "                  learning_rate=0.01, n_estimators=1300)\n",
      "R2 Value is: 0.8882403530412909\n",
      "\n",
      "##### Model Validation and Accuracy Calculations ##########\n",
      "   MEDV  PredictedMEDV        APE\n",
      "0  20.8          19.30   7.211538\n",
      "1  36.5          32.05  12.191781\n",
      "2  36.2          23.78  34.309392\n",
      "3  20.6          21.39   3.834951\n",
      "4  30.1          26.17  13.056478\n",
      "5  23.6          33.35  41.313559\n",
      "6  22.8          21.15   7.236842\n",
      "7  23.3          26.68  14.506438\n",
      "8  23.7          26.85  13.291139\n",
      "9  18.8          18.34   2.446809\n",
      "Mean Accuracy on testing data: 84.593535465131\n",
      "Median Accuracy on testing Data: 89.98529009304872\n",
      "\n",
      "Accuracy values for 10-fold Cross Validation:\n",
      " [87.55431335 87.86290703 87.84847767 86.87392671 87.0535085  87.67182853\n",
      " 79.70097317 58.59223775 71.44165484 80.92791391]\n",
      "\n",
      "Final Average Accuracy of the model: 81.553\n"
     ]
    },
    {
     "data": {
      "text/plain": [
       "<AxesSubplot:>"
      ]
     },
     "execution_count": 43,
     "metadata": {},
     "output_type": "execute_result"
    },
    {
     "data": {
      "image/png": "[encoded data removed]",
      "text/plain": [
       "<Figure size 432x288 with 1 Axes>"
      ]
     },
     "metadata": {
      "needs_background": "light"
     },
     "output_type": "display_data"
    }
   ],
   "source": [
    "from sklearn.ensemble import AdaBoostRegressor\n",
    "from sklearn.tree import DecisionTreeRegressor\n",
    "\n",
    "DTR=DecisionTreeRegressor(max_depth=3)\n",
    "RegModel=AdaBoostRegressor(n_estimators=1300,base_estimator=DTR,learning_rate=0.01)\n",
    "print(RegModel)\n",
    "AB=RegModel.fit(X_train,Y_train)\n",
    "prediction=AB.predict(X_test)\n",
    "\n",
    "from sklearn import metrics\n",
    "print('R2 Value is:',metrics.r2_score(Y_train,AB.predict(X_train)))\n",
    "\n",
    "print('\\n##### Model Validation and Accuracy Calculations ##########')\n",
    "TDR=pd.DataFrame(data=X_test,columns=Predictors)\n",
    "TDR[Target]=Y_test\n",
    "TDR[('Predicted'+Target)]=np.round((prediction),2)\n",
    "TDR['APE']=100*((abs(TDR['MEDV']-TDR['PredictedMEDV']))/TDR['MEDV'])\n",
    "print(TDR[[Target,'Predicted'+Target,'APE']].head(10))\n",
    "\n",
    "\n",
    "MAPE=np.mean(TDR['APE'])\n",
    "MedianMAPE=np.median(TDR['APE'])\n",
    "Accuracy=100-MAPE\n",
    "MedianAcc=100-MedianMAPE\n",
    "\n",
    "print('Mean Accuracy on testing data:',Accuracy)\n",
    "print('Median Accuracy on testing Data:',MedianAcc)\n",
    "\n",
    "def Acc_Score(ori,pre):\n",
    "    MAPE=np.mean(100*(np.abs(ori-pre)/ori))\n",
    "    return(100-MAPE)\n",
    "\n",
    "from sklearn.metrics import make_scorer\n",
    "custom_scoring=make_scorer(Acc_Score,greater_is_better=True)\n",
    "\n",
    "from sklearn.model_selection import cross_val_score\n",
    "Accuracy_score=cross_val_score(RegModel,X,Y,cv=10,scoring=custom_scoring)\n",
    "\n",
    "print('\\nAccuracy values for 10-fold Cross Validation:\\n',Accuracy_score)\n",
    "print('\\nFinal Average Accuracy of the model:',round(Accuracy_score.mean(),3))\n",
    "\n",
    "FI=pd.Series(AB.feature_importances_,index=Predictors)\n",
    "FI.nlargest(10).plot(kind='barh')"
   ]
  },
  {
   "cell_type": "markdown",
   "id": "462aa2f1",
   "metadata": {},
   "source": [
    "# XGBoost"
   ]
  },
  {
   "cell_type": "code",
   "execution_count": 44,
   "id": "c3801f6d",
   "metadata": {},
   "outputs": [
    {
     "name": "stdout",
     "output_type": "stream",
     "text": [
      "Requirement already satisfied: xgboost in c:\\users\\dip\\anaconda3\\lib\\site-packages (1.5.2)\n",
      "Requirement already satisfied: scipy in c:\\users\\dip\\anaconda3\\lib\\site-packages (from xgboost) (1.6.2)\n",
      "Requirement already satisfied: numpy in c:\\users\\dip\\anaconda3\\lib\\site-packages (from xgboost) (1.20.1)\n"
     ]
    }
   ],
   "source": [
    "!pip install xgboost"
   ]
  },
  {
   "cell_type": "code",
   "execution_count": 56,
   "id": "4b25531b",
   "metadata": {},
   "outputs": [
    {
     "name": "stdout",
     "output_type": "stream",
     "text": [
      "XGBRegressor(base_score=0.5, booster='gbtree', colsample_bylevel=1,\n",
      "             colsample_bynode=1, colsample_bytree=1, enable_categorical=False,\n",
      "             gamma=0, gpu_id=-1, importance_type=None,\n",
      "             interaction_constraints='', learning_rate=0.01, max_delta_step=0,\n",
      "             max_depth=2, min_child_weight=1, missing=nan,\n",
      "             monotone_constraints='()', n_estimators=1300, n_jobs=4,\n",
      "             num_parallel_tree=1, predictor='auto', random_state=0, reg_alpha=0,\n",
      "             reg_lambda=1, scale_pos_weight=1, subsample=1, tree_method='exact',\n",
      "             validate_parameters=1, verbosity=None)\n",
      "R2 Value is: 0.8934969428230558\n",
      "\n",
      "##### Model Validation and Accuracy Calculations ##########\n",
      "   MEDV  PredictedMEDV        APE\n",
      "0  10.2      16.260000  59.411767\n",
      "1  20.2      19.420000   3.861386\n",
      "2  32.9      37.119999  12.826744\n",
      "3  22.5      20.910000   7.066667\n",
      "4  33.4      36.599998   9.580834\n",
      "5  22.4      21.340000   4.732142\n",
      "6  15.2      16.379999   7.763152\n",
      "7  34.9      32.209999   7.707739\n",
      "8  19.8      18.469999   6.717175\n",
      "9  23.1      20.520000  11.168829\n",
      "Mean Accuracy 86.77703736962687\n",
      "Median Accuracy 92.07632494801061\n",
      "\n",
      "Accuracy values for 10-fold Cross Validation:\n",
      " [90.10368347 91.99011351 85.05683267 87.6743482  89.49119895 90.65127172\n",
      " 86.40530487 59.90763061 70.95261636 81.10973646]\n",
      "\n",
      "Final Average Accuracy of the model: 83.334\n"
     ]
    },
    {
     "data": {
      "text/plain": [
       "<AxesSubplot:>"
      ]
     },
     "execution_count": 56,
     "metadata": {},
     "output_type": "execute_result"
    },
    {
     "data": {
      "image/png": "[encoded data removed]",
      "text/plain": [
       "<Figure size 432x288 with 1 Axes>"
      ]
     },
     "metadata": {
      "needs_background": "light"
     },
     "output_type": "display_data"
    }
   ],
   "source": [
    "from xgboost import XGBRegressor\n",
    "RegModel=XGBRegressor(max_depth=2,n_estimators=1300,booster='gbtree',objective='reg:squarederror',learning_rate=0.01)\n",
    "XGB=RegModel.fit(X_train,Y_train)\n",
    "prediction=XGB.predict(X_test)\n",
    "print(RegModel)\n",
    "\n",
    "from sklearn import metrics\n",
    "print('R2 Value is:',metrics.r2_score(Y_train,XGB.predict(X_train)))\n",
    "\n",
    "print('\\n##### Model Validation and Accuracy Calculations ##########')\n",
    "TDR=pd.DataFrame(data=X_test,columns=Predictors)\n",
    "TDR[Target]=Y_test\n",
    "TDR[('Predicted'+Target)]=np.round((prediction),2)\n",
    "TDR['APE']=100*((abs(TDR['MEDV']-TDR['PredictedMEDV']))/TDR['MEDV'])\n",
    "print(TDR[[Target,'Predicted'+Target,'APE']].head(10))\n",
    "\n",
    "\n",
    "MAPE=np.mean(TDR['APE'])\n",
    "MedianMAPE=np.median(TDR['APE'])\n",
    "Accuracy=100-MAPE\n",
    "MedianAccuracy=100-MedianMAPE\n",
    "print('Mean Accuracy',Accuracy)\n",
    "print('Median Accuracy',MedianAccuracy)\n",
    "\n",
    "def acc_val(ori,pre):\n",
    "    MAPE=np.mean(np.abs(100*(ori-pre)/ori))\n",
    "    return(100-MAPE)\n",
    "\n",
    "from sklearn.metrics import make_scorer\n",
    "custom_scoring=make_scorer(Acc_Score,greater_is_better=True)\n",
    "\n",
    "from sklearn.model_selection import cross_val_score\n",
    "Accuracy_score=cross_val_score(RegModel,X,Y,cv=10,scoring=custom_scoring)\n",
    "\n",
    "print('\\nAccuracy values for 10-fold Cross Validation:\\n',Accuracy_score)\n",
    "print('\\nFinal Average Accuracy of the model:',round(Accuracy_score.mean(),3))\n",
    "\n",
    "FI=pd.Series(XGB.feature_importances_,index=Predictors)\n",
    "FI.nlargest(10).plot(kind='barh')"
   ]
  },
  {
   "cell_type": "markdown",
   "id": "7b8f4b0d",
   "metadata": {},
   "source": [
    "# KNN"
   ]
  },
  {
   "cell_type": "code",
   "execution_count": 55,
   "id": "a2f80132",
   "metadata": {},
   "outputs": [
    {
     "name": "stdout",
     "output_type": "stream",
     "text": [
      "KNeighborsRegressor(n_neighbors=6)\n",
      "R2 Value is: 0.8352619067070067\n",
      "\n",
      "##### Model Validation and Accuracy Calculations ##########\n",
      "   MEDV  PredictedMEDV        APE\n",
      "0  10.2          16.57  62.450980\n",
      "1  20.2          26.23  29.851485\n",
      "2  32.9          32.35   1.671733\n",
      "3  22.5          19.80  12.000000\n",
      "4  33.4          31.28   6.347305\n",
      "5  22.4          21.93   2.098214\n",
      "6  15.2          16.43   8.092105\n",
      "7  34.9          30.88  11.518625\n",
      "8  19.8          21.13   6.717172\n",
      "9  23.1          17.37  24.805195\n",
      "Mean Accuracy Value on testing data: 84.52541073513392\n",
      "Median Accuracy Value on testing data: 89.73609208002193\n",
      "\n",
      "Accuracy values for 10-fold Cross Validation:\n",
      " [88.54280648 90.67874212 87.45468921 85.02056424 88.73755142 88.84799685\n",
      " 88.23888283 62.26832378 74.91743718 79.27113753]\n",
      "\n",
      "Final Average Accuracy of the model: 83.398\n"
     ]
    }
   ],
   "source": [
    "from sklearn.neighbors import KNeighborsRegressor\n",
    "RegModel=KNeighborsRegressor(n_neighbors=6)\n",
    "print(RegModel)\n",
    "\n",
    "KNN=RegModel.fit(X_train,Y_train)\n",
    "prediction=KNN.predict(X_test)\n",
    "\n",
    "from sklearn import metrics\n",
    "print('R2 Value is:',metrics.r2_score(Y_train,KNN.predict(X_train)))\n",
    "\n",
    "print('\\n##### Model Validation and Accuracy Calculations ##########')\n",
    "TDR=pd.DataFrame(data=X_test,columns=Predictors)\n",
    "TDR[Target]=Y_test\n",
    "TDR[('Predicted'+Target)]=np.round((prediction),2)\n",
    "TDR['APE']=100*((abs(TDR['MEDV']-TDR['PredictedMEDV']))/TDR['MEDV'])\n",
    "print(TDR[[Target,'Predicted'+Target,'APE']].head(10))\n",
    "\n",
    "MAPE=np.mean(TDR['APE'])\n",
    "MedianMAPE=np.median(TDR['APE'])\n",
    "Accuracy=100-MAPE\n",
    "MedianAccuracy=100-MedianMAPE\n",
    "print('Mean Accuracy Value on testing data:',Accuracy)\n",
    "print('Median Accuracy Value on testing data:',MedianAccuracy)\n",
    "\n",
    "def Accuracy_Values(ori,pre):\n",
    "    MAPE=np.mean(100*(np.abs(ori-pre)/ori))\n",
    "    return(100-MAPE)\n",
    "\n",
    "from sklearn.metrics import make_scorer\n",
    "custom_scoring=make_scorer(Acc_Score,greater_is_better=True)\n",
    "\n",
    "from sklearn.model_selection import cross_val_score\n",
    "Accuracy_score=cross_val_score(RegModel,X,Y,cv=10,scoring=custom_scoring)\n",
    "print('\\nAccuracy values for 10-fold Cross Validation:\\n',Accuracy_score)\n",
    "print('\\nFinal Average Accuracy of the model:',round(Accuracy_score.mean(),3))"
   ]
  },
  {
   "cell_type": "markdown",
   "id": "183c5110",
   "metadata": {},
   "source": [
    "# Model Deployment"
   ]
  },
  {
   "cell_type": "markdown",
   "id": "5461fe4c",
   "metadata": {},
   "source": [
    "Based on the above trials you select that algorithm which produces the best average accuracy. In this case, multiple algorithms have produced similar kind of average accuracy. Hence, we can choose any one of them. I am choosing RandomForest as the final model since it is producing the best accuracy on this data."
   ]
  },
  {
   "cell_type": "markdown",
   "id": "b35b1b4d",
   "metadata": {},
   "source": [
    "# Choosing only the most important variables"
   ]
  },
  {
   "cell_type": "code",
   "execution_count": 60,
   "id": "6a740088",
   "metadata": {},
   "outputs": [
    {
     "name": "stdout",
     "output_type": "stream",
     "text": [
      "(506, 4)\n",
      "(506,)\n"
     ]
    }
   ],
   "source": [
    "Predictors=['RAD','Avg.Room','PTRATIO','Lower Status']\n",
    "Target='MEDV'\n",
    "\n",
    "X=Dataforml[Predictors].values\n",
    "Y=Dataforml[Target].values\n",
    "\n",
    "\n",
    "from sklearn.preprocessing import StandardScaler, MinMaxScaler\n",
    "PredictorScaler=MinMaxScaler()\n",
    "\n",
    "\n",
    "PredictorScalerFit=PredictorScaler.fit(X)\n",
    "\n",
    "X=PredictorScalerFit.transform(X)\n",
    "\n",
    "print(X.shape)\n",
    "print(Y.shape)"
   ]
  },
  {
   "cell_type": "markdown",
   "id": "1f678102",
   "metadata": {},
   "source": [
    "# Retraining the model using 100% data"
   ]
  },
  {
   "cell_type": "code",
   "execution_count": 65,
   "id": "0669a235",
   "metadata": {},
   "outputs": [],
   "source": [
    "from sklearn.ensemble import RandomForestRegressor\n",
    "RegModel=RandomForestRegressor(max_depth=5,n_estimators=1000,criterion='mse')\n",
    "\n",
    "Final_RF_Model=RegModel.fit(X,Y)"
   ]
  },
  {
   "cell_type": "markdown",
   "id": "328cc20d",
   "metadata": {},
   "source": [
    "# Cross validating the final model accuracy with less predictors"
   ]
  },
  {
   "cell_type": "code",
   "execution_count": 66,
   "id": "33d375a6",
   "metadata": {},
   "outputs": [
    {
     "name": "stdout",
     "output_type": "stream",
     "text": [
      "\n",
      "Accuracy values for 10-fold Cross Validation:\n",
      " [88.7484388  93.35914883 87.54352506 88.024519   89.11131164 91.15327681\n",
      " 87.70339376 62.9599005  74.22638835 80.26315158]\n",
      "\n",
      "Final Average Accuracy of the model: 84.31\n"
     ]
    }
   ],
   "source": [
    "from sklearn.model_selection import cross_val_score\n",
    "from sklearn.metrics import make_scorer\n",
    "custom_scoring=make_scorer(Acc_Score,greater_is_better=True)\n",
    "\n",
    "Accuracy_Values=cross_val_score(Final_RF_Model, X ,Y, cv=10, scoring=custom_scoring)\n",
    "print('\\nAccuracy values for 10-fold Cross Validation:\\n',Accuracy_Values)\n",
    "print('\\nFinal Average Accuracy of the model:', round(Accuracy_Values.mean(),2))"
   ]
  },
  {
   "cell_type": "markdown",
   "id": "7461ae2b",
   "metadata": {},
   "source": [
    "# Save the model as a serialized file which can be stored anywhere"
   ]
  },
  {
   "cell_type": "code",
   "execution_count": 67,
   "id": "1be3d584",
   "metadata": {},
   "outputs": [
    {
     "name": "stdout",
     "output_type": "stream",
     "text": [
      "pickle file of Predictive Model is saved at Location: C:\\Users\\DIP\n"
     ]
    }
   ],
   "source": [
    "import pickle\n",
    "import os\n",
    "\n",
    "\n",
    "with open('Final_RF_Model.pkl', 'wb') as fileWriteStream:\n",
    "    pickle.dump(Final_RF_Model, fileWriteStream)\n",
    "    fileWriteStream.close()\n",
    "    \n",
    "print('pickle file of Predictive Model is saved at Location:',os.getcwd())"
   ]
  },
  {
   "cell_type": "code",
   "execution_count": 68,
   "id": "cfa0d7b4",
   "metadata": {},
   "outputs": [],
   "source": [
    "def FunctionPredictResult(InputData):\n",
    "    import pandas as pd\n",
    "    Num_Inputs=InputData.shape[0]\n",
    "    \n",
    "    DataForML=pd.read_pickle('Dataforml.pkl')\n",
    "    InputData=InputData.append(DataForML)\n",
    "    \n",
    "    \n",
    "    InputData=pd.get_dummies(InputData)\n",
    "            \n",
    "    Predictors=['RAD','Avg.Room','PTRATIO','Lower Status']\n",
    "    \n",
    "    # Generating the input values to the model\n",
    "    X=InputData[Predictors].values[0:Num_Inputs]\n",
    "    \n",
    "    X=PredictorScalerFit.transform(X)\n",
    "    \n",
    "    \n",
    "    import pickle\n",
    "    with open('Final_RF_Model.pkl', 'rb') as fileReadStream:\n",
    "        PredictionModel=pickle.load(fileReadStream)\n",
    "        # Don't forget to close the filestream!\n",
    "        fileReadStream.close()\n",
    "            \n",
    "    # Genprice Predictions\n",
    "    Prediction=PredictionModel.predict(X)\n",
    "    PredictionResult=pd.DataFrame(Prediction, columns=['Prediction'])\n",
    "    return(PredictionResult)"
   ]
  },
  {
   "cell_type": "code",
   "execution_count": 69,
   "id": "5214443e",
   "metadata": {},
   "outputs": [
    {
     "name": "stdout",
     "output_type": "stream",
     "text": [
      "   RAD  Avg.Room  PTRATIO  Lower Status\n",
      "0    1     8.643    18.63          2.35\n",
      "1    2     4.643    19.63          1.35\n"
     ]
    },
    {
     "data": {
      "text/html": [
       "<div>\n",
       "<style scoped>\n",
       "    .dataframe tbody tr th:only-of-type {\n",
       "        vertical-align: middle;\n",
       "    }\n",
       "\n",
       "    .dataframe tbody tr th {\n",
       "        vertical-align: top;\n",
       "    }\n",
       "\n",
       "    .dataframe thead th {\n",
       "        text-align: right;\n",
       "    }\n",
       "</style>\n",
       "<table border=\"1\" class=\"dataframe\">\n",
       "  <thead>\n",
       "    <tr style=\"text-align: right;\">\n",
       "      <th></th>\n",
       "      <th>Prediction</th>\n",
       "    </tr>\n",
       "  </thead>\n",
       "  <tbody>\n",
       "    <tr>\n",
       "      <th>0</th>\n",
       "      <td>41.433029</td>\n",
       "    </tr>\n",
       "    <tr>\n",
       "      <th>1</th>\n",
       "      <td>28.278992</td>\n",
       "    </tr>\n",
       "  </tbody>\n",
       "</table>\n",
       "</div>"
      ],
      "text/plain": [
       "   Prediction\n",
       "0   41.433029\n",
       "1   28.278992"
      ]
     },
     "execution_count": 69,
     "metadata": {},
     "output_type": "execute_result"
    }
   ],
   "source": [
    "NewSampleData=pd.DataFrame(\n",
    "data=[[1,8.643,18.63,2.35],\n",
    "     [2,4.643,19.63,1.35]],\n",
    "columns=['RAD','Avg.Room','PTRATIO','Lower Status'])\n",
    "\n",
    "print(NewSampleData)\n",
    "\n",
    "# Calling the Function for prediction\n",
    "FunctionPredictResult(InputData= NewSampleData)"
   ]
  },
  {
   "cell_type": "markdown",
   "id": "0c8b6d20",
   "metadata": {},
   "source": [
    "# Deploying a predictive model as an API"
   ]
  },
  {
   "cell_type": "code",
   "execution_count": 71,
   "id": "bfead80b",
   "metadata": {},
   "outputs": [
    {
     "data": {
      "text/plain": [
       "'{\"Prediction\":{\"0\":31.7364511433}}'"
      ]
     },
     "execution_count": 71,
     "metadata": {},
     "output_type": "execute_result"
    }
   ],
   "source": [
    "def FunctionGeneratePrediction(inp_RAD, inp_Avg_Room, inp_PTRATIO,inp_Lower_Status):\n",
    "    SampleInputData=pd.DataFrame(\n",
    "     data=[[inp_RAD, inp_Avg_Room, inp_PTRATIO,inp_Lower_Status]],\n",
    "     columns=['RAD','Avg.Room','PTRATIO','Lower Status'])\n",
    "    Predictions=FunctionPredictResult(InputData= SampleInputData)\n",
    "    \n",
    "    return(Predictions.to_json())\n",
    "FunctionGeneratePrediction(inp_RAD=2, \n",
    "                           inp_Avg_Room=5.39, \n",
    "                           inp_PTRATIO=20.63,\n",
    "                           inp_Lower_Status=1.46\n",
    "                             )"
   ]
  },
  {
   "cell_type": "code",
   "execution_count": 72,
   "id": "967f7b8d",
   "metadata": {},
   "outputs": [
    {
     "name": "stdout",
     "output_type": "stream",
     "text": [
      "Requirement already satisfied: flask in c:\\users\\dip\\anaconda3\\lib\\site-packages (1.1.2)\n",
      "Requirement already satisfied: Werkzeug>=0.15 in c:\\users\\dip\\anaconda3\\lib\\site-packages (from flask) (1.0.1)\n",
      "Requirement already satisfied: click>=5.1 in c:\\users\\dip\\anaconda3\\lib\\site-packages (from flask) (7.1.2)\n",
      "Requirement already satisfied: itsdangerous>=0.24 in c:\\users\\dip\\anaconda3\\lib\\site-packages (from flask) (1.1.0)\n",
      "Requirement already satisfied: Jinja2>=2.10.1 in c:\\users\\dip\\anaconda3\\lib\\site-packages (from flask) (2.11.3)\n",
      "Requirement already satisfied: MarkupSafe>=0.23 in c:\\users\\dip\\anaconda3\\lib\\site-packages (from Jinja2>=2.10.1->flask) (1.1.1)\n"
     ]
    }
   ],
   "source": [
    "!pip install flask"
   ]
  },
  {
   "cell_type": "markdown",
   "id": "8c08d062",
   "metadata": {},
   "source": [
    "# Creating Flask API"
   ]
  },
  {
   "cell_type": "code",
   "execution_count": 73,
   "id": "48aaa55b",
   "metadata": {},
   "outputs": [],
   "source": [
    "from flask import Flask, request, jsonify\n",
    "import pickle\n",
    "import pandas as pd\n",
    "import numpy"
   ]
  },
  {
   "cell_type": "code",
   "execution_count": 76,
   "id": "fba678a7",
   "metadata": {},
   "outputs": [],
   "source": [
    "app = Flask(__name__)\n",
    "\n",
    "@app.route('/my_prediction', methods=[\"GET\"])\n",
    "def prediction_api():\n",
    "    try:\n",
    "        RAD_value=float(request.args.get('RAD'))\n",
    "        Avg_Room_value=float(request.args.get('Avg.Room'))\n",
    "        PTRATIO_value=float(request.args.get('PTRATIO'))\n",
    "        Lower_Status_value=float(request.args.get('Lower Status'))\n",
    "                       \n",
    "        prediction_from_api=FunctionGeneratePrediction(\n",
    "                                                    inp_RAD=RAD_value, \n",
    "                                                    inp_Avg_Room= Avg_Room_value, \n",
    "                                                    inp_PTRATIO=PTRATIO_value,\n",
    "                                                    inp_Lower_Status= Lower_Status_value                                                    \n",
    "\n",
    "                                                        )\n",
    "\n",
    "        return (prediction_from_api)\n",
    "    \n",
    "    except Exception as e:\n",
    "        return('Something is not right!:'+str(e))"
   ]
  },
  {
   "cell_type": "code",
   "execution_count": 79,
   "id": "2b773c1e",
   "metadata": {},
   "outputs": [
    {
     "name": "stdout",
     "output_type": "stream",
     "text": [
      " * Serving Flask app \"__main__\" (lazy loading)\n",
      " * Environment: production\n",
      "   WARNING: This is a development server. Do not use it in a production deployment.\n",
      "   Use a production WSGI server instead.\n",
      " * Debug mode: on\n"
     ]
    },
    {
     "name": "stderr",
     "output_type": "stream",
     "text": [
      " * Running on http://127.0.0.1:8080/ (Press CTRL+C to quit)\n",
      "127.0.0.1 - - [03/Feb/2022 17:08:07] \"\u001b[37mGET /my_prediction?RAD=2.23&Avg.Room=5.56&PTRATIO=18.63&Lower%20Status=2.23 HTTP/1.1\u001b[0m\" 200 -\n"
     ]
    }
   ],
   "source": [
    "import os\n",
    "if __name__ ==\"__main__\":\n",
    "    \n",
    "    app.run(host='127.0.0.1', port=8080, threaded=True, debug=True, use_reloader=False)"
   ]
  },
  {
   "cell_type": "code",
   "execution_count": null,
   "id": "f861a2e8",
   "metadata": {},
   "outputs": [],
   "source": []
  }
 ],
 "metadata": {
  "kernelspec": {
   "display_name": "Python 3",
   "language": "python",
   "name": "python3"
  },
  "language_info": {
   "codemirror_mode": {
    "name": "ipython",
    "version": 3
   },
   "file_extension": ".py",
   "mimetype": "text/x-python",
   "name": "python",
   "nbconvert_exporter": "python",
   "pygments_lexer": "ipython3",
   "version": "3.8.8"
  }
 },
 "nbformat": 4,
 "nbformat_minor": 5
}
